{
 "cells": [
  {
   "cell_type": "markdown",
   "metadata": {},
   "source": [
    "# Day 4 Assignment\n",
    "## Warmup\n",
    "### Part 1\n",
    "1. Remember the song '99 bottles of beer on the wall'? Well, we've written a function that will take in a number (`n`), and we want you to complete it such that it prints a line from the song. `n` will hold the number of bottles of beer on the wall, and we want you to complete the function assuming that there are `n` bottles of beer on the wall. After completing it, test that it works by calling it some number of times.\n",
    "\n",
    " ```python\n",
    "    def calc_beers_on_the_wall(n=99):\n",
    "        \"\"\"Print how many beers remain on the wall.\n",
    "\n",
    "        Args:\n",
    "            n: int\n",
    "                Holds the number of beers that remain on the wall.\n",
    "        \"\"\"\n",
    "        pass\n",
    "```"
   ]
  },
  {
   "cell_type": "code",
   "execution_count": 3,
   "metadata": {},
   "outputs": [
    {
     "name": "stdout",
     "output_type": "stream",
     "text": [
      "2 bottles of beer on the wall, 2 bottles of beer.Take one down and pass it around, 2 bottles of beer on the wall.\n"
     ]
    }
   ],
   "source": [
    "def calc_beers_on_the_wall(n=99):\n",
    "    print(repr(n) + \" bottles of beer on the wall, \" + repr(n) + \" bottles of beer.\"\n",
    "          \"Take one down and pass it around, \" + repr(n) + \" bottles of beer on the wall.\")\n",
    "    pass\n",
    "calc_beers_on_the_wall(2)"
   ]
  },
  {
   "cell_type": "markdown",
   "metadata": {},
   "source": [
    " * What does it mean for me to write `n=99` in the function definition, as opposed to just `n`? Try calling your function both with and without an argument given - what happens in each case? Why does this happen?\n",
    " * Change the `99` to `50`. What do you expect to happen? Call your function, and verify that you get the intended results."
   ]
  },
  {
   "cell_type": "markdown",
   "metadata": {},
   "source": [
    "2. Remember [Elsa](http://pre11.deviantart.net/7144/th/pre/f/2014/027/b/d/let_it_go_by_impala99-d740xws.png) from `Frozen`? We've heard mixed reviews of her song 'Let It Go'. We've written a function below that will take in a boolean (the `fan` parameter), where this boolean holds whether or not a person is in favor of 'Let It Go' (i.e. if `fan` is `True`, they are in favor, and if it is `False`, they are not in favor). We want you to complete the function such that:\n",
    "\n",
    " * If the person is a fan, then it prints \"I love Elsa! She's my favorite!\"\n",
    " * If the person is not a fan, then it prints \"Let It Go, it's not that great.\"  \n",
    "\n",
    " ```python\n",
    "    def check_elsa_fan(fan):\n",
    "        \"\"\"Print a certain phrase depending on the value of fan.\n",
    "\n",
    "        Args:\n",
    "            fan: boolean\n",
    "        \"\"\"\n",
    "        pass\n",
    "```"
   ]
  },
  {
   "cell_type": "code",
   "execution_count": 5,
   "metadata": {},
   "outputs": [
    {
     "name": "stdout",
     "output_type": "stream",
     "text": [
      "Let It Go, it's not that great.\n"
     ]
    }
   ],
   "source": [
    "def check_elsa_fan(fan):\n",
    "    if fan == True:\n",
    "        print(\"I love Elsa! She's my favorite!\")\n",
    "    else:\n",
    "        print(\"Let It Go, it's not that great.\")\n",
    "    pass\n",
    "check_elsa_fan(False)"
   ]
  },
  {
   "cell_type": "markdown",
   "metadata": {},
   "source": [
    "* Change the function definition so that it **defaults** to the person being a fan. Try calling your function both with and without arguments now - how does this effect what gets printed out?"
   ]
  },
  {
   "cell_type": "code",
   "execution_count": 6,
   "metadata": {},
   "outputs": [
    {
     "name": "stdout",
     "output_type": "stream",
     "text": [
      "I love Elsa! She's my favorite!\n"
     ]
    }
   ],
   "source": [
    "def check_elsa_fan(fan = True):\n",
    "    if fan == True:\n",
    "        print(\"I love Elsa! She's my favorite!\")\n",
    "    else:\n",
    "        print(\"Let It Go, it's not that great.\")\n",
    "    pass\n",
    "check_elsa_fan()"
   ]
  },
  {
   "cell_type": "markdown",
   "metadata": {},
   "source": [
    "### Part 2\n",
    "3. Below, I've written a line of code that will print `Hello, <name>`, where `name` will be a parameter in the function definition. Write a function that takes in one parameter, `name`, and then uses the line of code below to print 'Hello' to that `name`.   \n",
    "\n",
    " ```python\n",
    " print('Hello {}'.format(name))\n",
    " ```"
   ]
  },
  {
   "cell_type": "code",
   "execution_count": 7,
   "metadata": {},
   "outputs": [
    {
     "name": "stdout",
     "output_type": "stream",
     "text": [
      "Hello Elisa\n"
     ]
    }
   ],
   "source": [
    "def print_name(name):\n",
    "    print(\"Hello \" + name)\n",
    "print_name(\"Elisa\")"
   ]
  },
  {
   "cell_type": "markdown",
   "metadata": {},
   "source": [
    "* Now, alter your function definition such that it **by default** says hello to \"Josh\" if no value for `name` is passed in."
   ]
  },
  {
   "cell_type": "code",
   "execution_count": 8,
   "metadata": {},
   "outputs": [
    {
     "name": "stdout",
     "output_type": "stream",
     "text": [
      "Hello Josh\n"
     ]
    }
   ],
   "source": [
    "def print_name(name = \"Josh\"):\n",
    "    print(\"Hello \" + name)\n",
    "print_name()"
   ]
  },
  {
   "cell_type": "markdown",
   "metadata": {},
   "source": [
    "4. Now for something a tad more intricate. Below is some code that relies on two unknowns, `n` and `potential_divisor`. This code returns a `True` or `False` depending on whether or not `n` is evenly divisible by `potential_divisor`. Your first goal is to write a function that accepts these two parameters in its definition and has the code below as its body.\n",
    "\n",
    " `return n % potential_divisor == 0`"
   ]
  },
  {
   "cell_type": "code",
   "execution_count": 10,
   "metadata": {},
   "outputs": [
    {
     "data": {
      "text/plain": [
       "True"
      ]
     },
     "execution_count": 10,
     "metadata": {},
     "output_type": "execute_result"
    }
   ],
   "source": [
    "def is_divisible(n, potential_divisor):\n",
    "    return n % potential_divisor == 0\n",
    "is_divisible(100, 10)"
   ]
  },
  {
   "cell_type": "markdown",
   "metadata": {},
   "source": [
    "* Now, alter your function definition so that **by default** the `divisor` is equal to 2 (i.e. by default it just checks if the inputted `n` is even). Now that you've made one of the parameters have a default, what stipulations come with that change (*Hint*: Remember, order of the parameters now matters)."
   ]
  },
  {
   "cell_type": "code",
   "execution_count": 17,
   "metadata": {},
   "outputs": [
    {
     "data": {
      "text/plain": [
       "False"
      ]
     },
     "execution_count": 17,
     "metadata": {},
     "output_type": "execute_result"
    }
   ],
   "source": [
    "def is_divisible(n, potential_divisor = 2):\n",
    "    return n % potential_divisor == 0\n",
    "is_divisible(3)"
   ]
  },
  {
   "cell_type": "markdown",
   "metadata": {},
   "source": [
    "## Assignment Questions\n",
    "\n",
    "### Part 1 - Basic Practice\n",
    "\n",
    "For the first part of the assignment, we're going to get some practice taking code we've already written and making it a function. Let's work with a couple of the scripts that we wrote for `intro_python_assignment.md` in Week 1, Day 2.\n",
    "\n",
    "Let's start by making changing problems three and four from that assignment into functions (for extra practice you could do this with the rest of the problems that we worked through in those assignments). Below are the original problem statements. To move these to functions, we will no longer take user input, but instead pass an argument(s) into a function and consider that to be the \"user input\"."
   ]
  },
  {
   "cell_type": "code",
   "execution_count": 19,
   "metadata": {},
   "outputs": [
    {
     "name": "stdout",
     "output_type": "stream",
     "text": [
      "this string was not chosen arbitrarily...\n",
      "this string was not chosen arbitrarily...or was it??\n"
     ]
    }
   ],
   "source": [
    "# Problem 3\n",
    "my_str = 'This String was not Chosen Arbitrarily...'\n",
    "print(my_str.lower())\n",
    "\n",
    "# Problem 4\n",
    "my_str = 'This String was not Chosen Arbitrarily...'\n",
    "my_str2 = \"oR wAs it??\"\n",
    "my_str3 = my_str + my_str2\n",
    "print(my_str3.lower())"
   ]
  },
  {
   "cell_type": "code",
   "execution_count": 22,
   "metadata": {},
   "outputs": [
    {
     "name": "stdout",
     "output_type": "stream",
     "text": [
      "hola\n",
      "This String was not Chosen Arbitrarily...OR WAS IT?\n"
     ]
    }
   ],
   "source": [
    "# Problem 3 to Fx\n",
    "def to_lower(n):\n",
    "    print(n.lower())\n",
    "to_lower(\"HOLA\")\n",
    "\n",
    "# Problem 4 to Fx\n",
    "def p_4(n):\n",
    "    print(\"This String was not Chosen Arbitrarily...\" + n)\n",
    "p_4(\"OR WAS IT?\")"
   ]
  },
  {
   "cell_type": "markdown",
   "metadata": {},
   "source": [
    "1. Write a function that computes and prints all of the divisors of a user inputted number.\n",
    "\n",
    " * Here we won't take a user inputted number, but build a function that accepts one parameter, a number, and then computes all the divisors of that number. The solution to the previous assignment *might* need to be modified for it to work in a function."
   ]
  },
  {
   "cell_type": "code",
   "execution_count": 23,
   "metadata": {},
   "outputs": [
    {
     "data": {
      "text/plain": [
       "[10, 5, 2, 1]"
      ]
     },
     "execution_count": 23,
     "metadata": {},
     "output_type": "execute_result"
    }
   ],
   "source": [
    "def all_divisors(y):\n",
    "    x = y\n",
    "    l = list()\n",
    "    while x > 0:\n",
    "        z = y % x\n",
    "        if z == 0:\n",
    "            l.append(x)\n",
    "        x -= 1\n",
    "    return(l)\n",
    "all_divisors(10)"
   ]
  },
  {
   "cell_type": "markdown",
   "metadata": {},
   "source": [
    "2.  Write a function that computes the least common multiple between two user inputted numbers.\n",
    "\n",
    " * Here we won't take any user inputted numbers, but build a function that accepts two numbers as parameters, and then computes the least common multiple of those two numbers. Again, whatever code you have that does this *might* have to be modified to work in a function."
   ]
  },
  {
   "cell_type": "code",
   "execution_count": 25,
   "metadata": {},
   "outputs": [
    {
     "data": {
      "text/plain": [
       "10"
      ]
     },
     "execution_count": 25,
     "metadata": {},
     "output_type": "execute_result"
    }
   ],
   "source": [
    "def common_multiple(x, y):\n",
    "    temp = x * y\n",
    "    if x >= y:\n",
    "        big = y\n",
    "    else:\n",
    "        big = x\n",
    "    \n",
    "    while True:\n",
    "        if(big % x == 0) and (big % y == 0):\n",
    "            temp = big\n",
    "            break\n",
    "        big += 1\n",
    "    return(temp)\n",
    "\n",
    "common_multiple(10, 2)"
   ]
  },
  {
   "cell_type": "markdown",
   "metadata": {},
   "source": [
    "### Part 2 - Advanced Practice\n",
    "\n",
    "1. Write a function that figures out whether or not we have any beers left on our wall. It should take in a number, and then print 'No beers left' if we are at the end (i.e. there are `0` beers left) or 'Beers left!' if we are not at the end (i.e. there are not `0` beers left)."
   ]
  },
  {
   "cell_type": "code",
   "execution_count": 28,
   "metadata": {},
   "outputs": [
    {
     "name": "stdout",
     "output_type": "stream",
     "text": [
      "Beers left!\n"
     ]
    }
   ],
   "source": [
    "def beers_left(n):\n",
    "    if n == 0:\n",
    "        print(\"No beers left\")\n",
    "    else:\n",
    "        print(\"Beers left!\")\n",
    "beers_left(10)"
   ]
  },
  {
   "cell_type": "markdown",
   "metadata": {},
   "source": [
    "2. Let's imagine that I know all of the Elsa fans out there, and they're just Cary, Josh, and Sean (it's okay, we're the three best friends anybody could ever have). Write a function that takes a `name`, and then returns a `True` or `False` as to whether or not they are an Elsa fan. You can use the knowledge that if they aren't Cary, Josh, or Sean, they aren't an Elsa fan. Also, remember that checking membership using a `set` is incredibly fast! Try to use a `set` if you can."
   ]
  },
  {
   "cell_type": "code",
   "execution_count": 31,
   "metadata": {},
   "outputs": [
    {
     "data": {
      "text/plain": [
       "False"
      ]
     },
     "execution_count": 31,
     "metadata": {},
     "output_type": "execute_result"
    }
   ],
   "source": [
    "def fans_elsa(name):\n",
    "    fans = {\"Cary\", \"Josh\", \"Sean\"}\n",
    "    if name in fans:\n",
    "        return True\n",
    "    else:\n",
    "        return False\n",
    "fans_elsa(\"Elisa\")"
   ]
  },
  {
   "cell_type": "markdown",
   "metadata": {},
   "source": [
    "3. Write a function that computes the sum of the numbers in an inputted list. Use a `for` loop to do this. When you're done, look up the [sum](https://docs.python.org/3/library/functions.html#sum) function (and notice that this does the same thing as what you just wrote!).\n",
    "\n",
    " * Example: If I input `[1, 2, 3]`, your function should return `6` (1 + 2 + 3 = 6)."
   ]
  },
  {
   "cell_type": "code",
   "execution_count": 35,
   "metadata": {},
   "outputs": [
    {
     "data": {
      "text/plain": [
       "10"
      ]
     },
     "execution_count": 35,
     "metadata": {},
     "output_type": "execute_result"
    }
   ],
   "source": [
    "def sum_list(numbers):\n",
    "    temp = 0\n",
    "    if not isinstance(numbers, list):\n",
    "        raise Exception(\"The variable must be a list\")\n",
    "    for i in range(len(numbers)):\n",
    "        temp += numbers[i]\n",
    "    return(temp)\n",
    "\n",
    "var = [1, 2, 3, 4]\n",
    "sum_list(var)"
   ]
  },
  {
   "cell_type": "markdown",
   "metadata": {},
   "source": [
    "4. Write a function that computes the product of the numbers in an inputted list. Use a `for` loop to do this as well.  \n",
    "\n",
    " * Example: If I input `[2, 3, 4]`, your function should return `24` (2 * 3 * 4 = 24)."
   ]
  },
  {
   "cell_type": "code",
   "execution_count": 37,
   "metadata": {},
   "outputs": [
    {
     "data": {
      "text/plain": [
       "24"
      ]
     },
     "execution_count": 37,
     "metadata": {},
     "output_type": "execute_result"
    }
   ],
   "source": [
    "def mul_list(numbers):\n",
    "    temp = 1\n",
    "    if not isinstance(numbers, list):\n",
    "        raise Exception(\"The variable must be a list\")\n",
    "    for i in range(len(numbers)):\n",
    "        temp *= numbers[i]\n",
    "    return(temp)\n",
    "\n",
    "var = [1, 2, 3, 4]\n",
    "mul_list(var)"
   ]
  },
  {
   "cell_type": "markdown",
   "metadata": {},
   "source": [
    "5. Write a function that takes in an arbitrary list, and returns a list of the numbers in that list that are even.\n",
    "\n",
    " * Example: If I input `[2, 4, 5, 7, 10]`, your function should return `[2, 4, 10]`."
   ]
  },
  {
   "cell_type": "code",
   "execution_count": 38,
   "metadata": {},
   "outputs": [
    {
     "data": {
      "text/plain": [
       "[2, 4]"
      ]
     },
     "execution_count": 38,
     "metadata": {},
     "output_type": "execute_result"
    }
   ],
   "source": [
    "def if_even(numbers):\n",
    "    temp = list()\n",
    "    if not isinstance(numbers, list):\n",
    "        raise Exception(\"The variable must be a list\")\n",
    "    for i in range(len(numbers)):\n",
    "        if numbers[i] % 2 == 0:\n",
    "            temp.append(numbers[i])\n",
    "    return(temp)\n",
    "\n",
    "var = [1, 2, 3, 4]\n",
    "if_even(var)"
   ]
  },
  {
   "cell_type": "markdown",
   "metadata": {},
   "source": [
    "## Hard Functions Exercises\n",
    "### Part 1 - Basic Practice\n",
    "1. Write a function that computes the factorial for an inputted number."
   ]
  },
  {
   "cell_type": "code",
   "execution_count": 41,
   "metadata": {},
   "outputs": [
    {
     "name": "stdout",
     "output_type": "stream",
     "text": [
      "6\n"
     ]
    }
   ],
   "source": [
    "def factorial(y):\n",
    "    total = 1\n",
    "    num = 1\n",
    "    for num in range(1,y):\n",
    "        total *= y\n",
    "        y -= 1\n",
    "    print(total)\n",
    "\n",
    "factorial(3)"
   ]
  },
  {
   "cell_type": "markdown",
   "metadata": {},
   "source": [
    "2. Write a function that determines whether or not an inputted number is prime, and then prints 'The number you inputted is a prime/ not a prime number.' depending on what your script finds (note that this means putting a `print` in front of the function when testing it will be redundant for this case)."
   ]
  },
  {
   "cell_type": "code",
   "execution_count": 45,
   "metadata": {},
   "outputs": [
    {
     "name": "stdout",
     "output_type": "stream",
     "text": [
      "The number you inputted is not a prime number.\n"
     ]
    }
   ],
   "source": [
    "def is_prime(number):\n",
    "    prime = True\n",
    "    for num in range(2, int(number ** 0.5) + 2):\n",
    "        if number % num == 0:\n",
    "            prime = False\n",
    "            break\n",
    "    if prime:\n",
    "        print('The number you inputted is a prime number.')\n",
    "    else:\n",
    "        print('The number you inputted is not a prime number.')\n",
    "\n",
    "is_prime(4)"
   ]
  },
  {
   "cell_type": "markdown",
   "metadata": {},
   "source": [
    "### Part 2 - Advanced Practice\n",
    "1. Write a function that counts the number of words in an inputted string, where we consider words to be separated by spaces."
   ]
  },
  {
   "cell_type": "code",
   "execution_count": 53,
   "metadata": {},
   "outputs": [
    {
     "name": "stdout",
     "output_type": "stream",
     "text": [
      "2 words.\n"
     ]
    }
   ],
   "source": [
    "def count_words(input_str):\n",
    "    if not isinstance(input_str, str):\n",
    "        raise Exception(\"The variable must be a string\")\n",
    "    temp_list = input_str.split()\n",
    "    print(repr(len(temp_list)) + \" words.\")\n",
    "\n",
    "var = str(\"Hello World!\")\n",
    "count_words(var)"
   ]
  },
  {
   "cell_type": "markdown",
   "metadata": {},
   "source": [
    "2. Write a function that counts the number of words in an inputted string, where we consider words to be separated by a specified delimiter (so your function should accept two arguments, one for the string and one for the delimiter) and a space is defined as the default delimiter. "
   ]
  },
  {
   "cell_type": "code",
   "execution_count": 55,
   "metadata": {},
   "outputs": [
    {
     "name": "stdout",
     "output_type": "stream",
     "text": [
      "1 words.\n"
     ]
    }
   ],
   "source": [
    "def count_words(input_str, delimiter):\n",
    "    if not isinstance(input_str, str):\n",
    "        raise Exception(\"The variable must be a string\")\n",
    "    temp_list = input_str.split(delimiter)\n",
    "    print(repr(len(temp_list)) + \" words.\")\n",
    "\n",
    "var = str(\"Hello World!\")\n",
    "count_words(var, \"-\")"
   ]
  },
  {
   "cell_type": "markdown",
   "metadata": {},
   "source": [
    "3. Write a function that takes in a string, and returns a list that holds the length of each word in the phrase, separated by an inputted delimiter (so you're function should accept two arguments again). Make a space the default delimiter like you did in `2`. For example, if the arguments to your function were `This is a test string` (and nothing else), your function should return `[4, 2, 1, 4, 6]`. Go ahead and don't worry about removing punctuation (you can include it in the word length - e.g. \"this.\" has five letters, if we count the period)."
   ]
  },
  {
   "cell_type": "code",
   "execution_count": null,
   "metadata": {},
   "outputs": [],
   "source": []
  }
 ],
 "metadata": {
  "kernelspec": {
   "display_name": "Python 3",
   "language": "python",
   "name": "python3"
  },
  "language_info": {
   "codemirror_mode": {
    "name": "ipython",
    "version": 3
   },
   "file_extension": ".py",
   "mimetype": "text/x-python",
   "name": "python",
   "nbconvert_exporter": "python",
   "pygments_lexer": "ipython3",
   "version": "3.7.3"
  }
 },
 "nbformat": 4,
 "nbformat_minor": 2
}
