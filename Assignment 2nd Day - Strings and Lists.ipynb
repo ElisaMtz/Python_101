{
 "cells": [
  {
   "cell_type": "markdown",
   "metadata": {},
   "source": [
    "# Day 2 Assignment"
   ]
  },
  {
   "cell_type": "markdown",
   "metadata": {},
   "source": [
    "## 1.- String Warm-up"
   ]
  },
  {
   "cell_type": "markdown",
   "metadata": {},
   "source": [
    " 1. Look at the code in `warmup1.py`. What is the letter at index 14 of `my_str`? Think about this first, then feel free to print just that letter to check your answer."
   ]
  },
  {
   "cell_type": "code",
   "execution_count": 1,
   "metadata": {},
   "outputs": [
    {
     "name": "stdout",
     "output_type": "stream",
     "text": [
      "THIS STRING WAS NOT CHOSEN ARBITRARILY...\n"
     ]
    }
   ],
   "source": [
    "my_str = 'This String was not Chosen Arbitrarily...'\n",
    "print(my_str.upper())"
   ]
  },
  {
   "cell_type": "code",
   "execution_count": 2,
   "metadata": {},
   "outputs": [
    {
     "data": {
      "text/plain": [
       "'s'"
      ]
     },
     "execution_count": 2,
     "metadata": {},
     "output_type": "execute_result"
    }
   ],
   "source": [
    "my_str[14]"
   ]
  },
  {
   "cell_type": "markdown",
   "metadata": {},
   "source": [
    " 2. In line 1 of `warmup1.py`, change the definition of `my_str` to use the contraction \"wasn't\" instead of \"was not\". What letter is at index 14 now?"
   ]
  },
  {
   "cell_type": "code",
   "execution_count": 5,
   "metadata": {},
   "outputs": [
    {
     "data": {
      "text/plain": [
       "'s'"
      ]
     },
     "execution_count": 5,
     "metadata": {},
     "output_type": "execute_result"
    }
   ],
   "source": [
    "my_str = \"This String wasn't Chosen Arbitrarily...\"\n",
    "my_str[14]"
   ]
  },
  {
   "cell_type": "markdown",
   "metadata": {},
   "source": [
    "  3. Change `warmup1.py` to print `my_str` with only lowercase letters."
   ]
  },
  {
   "cell_type": "code",
   "execution_count": 7,
   "metadata": {},
   "outputs": [
    {
     "data": {
      "text/plain": [
       "\"this string wasn't chosen arbitrarily...\""
      ]
     },
     "execution_count": 7,
     "metadata": {},
     "output_type": "execute_result"
    }
   ],
   "source": [
    "my_str.lower()"
   ]
  },
  {
   "cell_type": "markdown",
   "metadata": {},
   "source": [
    "4. Add a line between lines 1 and 2 that adds the string `\"oR wAs it??\"` to the end of `my_str`. When you print `my_str` with no uppercase letters now, it should display: `this string wasn't chosen arbitrarily...or was it??`. (**Hint**: use string concatenation with `+=` to redefine `my_str`)"
   ]
  },
  {
   "cell_type": "code",
   "execution_count": 9,
   "metadata": {},
   "outputs": [
    {
     "name": "stdout",
     "output_type": "stream",
     "text": [
      "this string was not chosen arbitrarily...or was it??\n"
     ]
    }
   ],
   "source": [
    "my_str = 'This String was not Chosen Arbitrarily...'\n",
    "my_str2 = \"oR wAs it??\"\n",
    "my_str3 = my_str + my_str2\n",
    "print(my_str3.lower())"
   ]
  },
  {
   "cell_type": "markdown",
   "metadata": {},
   "source": [
    " 5. Using indexing, print only the `\"oR wAs it\"` in `my_str`. You're going to have to use `[start_index:end_index]` notation to do this."
   ]
  },
  {
   "cell_type": "code",
   "execution_count": 10,
   "metadata": {},
   "outputs": [
    {
     "data": {
      "text/plain": [
       "'oR wAs it'"
      ]
     },
     "execution_count": 10,
     "metadata": {},
     "output_type": "execute_result"
    }
   ],
   "source": [
    "my_str3[41:50]"
   ]
  },
  {
   "cell_type": "markdown",
   "metadata": {},
   "source": [
    " 6. Find a different way to index into `my_str` to print only the `\"oR wAs it\"`. This time, though, print all the letters in uppercase."
   ]
  },
  {
   "cell_type": "code",
   "execution_count": 20,
   "metadata": {},
   "outputs": [
    {
     "data": {
      "text/plain": [
       "'OR WAS IT'"
      ]
     },
     "execution_count": 20,
     "metadata": {},
     "output_type": "execute_result"
    }
   ],
   "source": [
    "my_str3[-11:-2].upper()"
   ]
  },
  {
   "cell_type": "markdown",
   "metadata": {},
   "source": [
    " 7. Add the line `user_input = input('Add \"oR wAs it??\" (y/n)? ')` at the top of `warmup1.py`. This will prompt the user to enter a `y` or an `n`. Now add an `if` statement to your code that only adds the string `\"oR wAs it??\"` to `my_str` if the user inputs a `y`. If the user inputs an `n`, don't add `\"oR wAs it??\"` to `my_str`. Print `my_str` at the end of the script."
   ]
  },
  {
   "cell_type": "code",
   "execution_count": 30,
   "metadata": {},
   "outputs": [
    {
     "name": "stdin",
     "output_type": "stream",
     "text": [
      "Add \"oR wAs it??\" (y/n)?  Y\n"
     ]
    },
    {
     "name": "stdout",
     "output_type": "stream",
     "text": [
      "This String was not Chosen Arbitrarily...oR wAs it??\n"
     ]
    }
   ],
   "source": [
    "user_input = input('Add \"oR wAs it??\" (y/n)? ')\n",
    "my_str = 'This String was not Chosen Arbitrarily...'\n",
    "my_str2 = \"oR wAs it??\"\n",
    "if user_input == \"y\" or user_input == \"Y\":\n",
    "    print(my_str + my_str2)\n",
    "else:print(my_str)"
   ]
  },
  {
   "cell_type": "markdown",
   "metadata": {},
   "source": [
    "8. Change the first line of `warmup1.py` to `user_input = input('String to add to end of my_str: ')`. Add `user_input` to the end of `my_str` instead of `\"oR wAs it??\"` and print `my_str`. Note, you'll have to remove the `if` you have in your code from the previous question."
   ]
  },
  {
   "cell_type": "code",
   "execution_count": 31,
   "metadata": {},
   "outputs": [
    {
     "name": "stdin",
     "output_type": "stream",
     "text": [
      "String to add to end of my_str:  YES\n"
     ]
    },
    {
     "name": "stdout",
     "output_type": "stream",
     "text": [
      "This String was not Chosen Arbitrarily...YES\n"
     ]
    }
   ],
   "source": [
    "user_input = input('String to add to end of my_str: ')\n",
    "my_str = 'This String was not Chosen Arbitrarily...'\n",
    "print(my_str + user_input)"
   ]
  },
  {
   "cell_type": "markdown",
   "metadata": {},
   "source": [
    " 9. Now, only add `user_input` to `my_str` if it's shorter than 10 characters. No matter what, print `my_str`."
   ]
  },
  {
   "cell_type": "code",
   "execution_count": 34,
   "metadata": {},
   "outputs": [
    {
     "name": "stdin",
     "output_type": "stream",
     "text": [
      "String to add to end of my_str:  12345678912\n"
     ]
    },
    {
     "name": "stdout",
     "output_type": "stream",
     "text": [
      "This String was not Chosen Arbitrarily...\n"
     ]
    }
   ],
   "source": [
    "user_input = input('String to add to end of my_str: ')\n",
    "my_str = 'This String was not Chosen Arbitrarily...'\n",
    "if len(user_input) < 10:\n",
    "    print(my_str + user_input)\n",
    "else:\n",
    "    print(my_str)"
   ]
  },
  {
   "cell_type": "markdown",
   "metadata": {},
   "source": [
    "## 2.- List Warm-up"
   ]
  },
  {
   "cell_type": "markdown",
   "metadata": {},
   "source": [
    " 1. Look at the code in `warmup2.py`. What is going to be printed to the console? Change the print statement so that the first element in `my_list`, `1`, is printed. What's the reason that we have to make this change?"
   ]
  },
  {
   "cell_type": "code",
   "execution_count": 36,
   "metadata": {},
   "outputs": [
    {
     "name": "stdout",
     "output_type": "stream",
     "text": [
      "hello\n"
     ]
    }
   ],
   "source": [
    "my_list = [1, 'hello', 2, 'there', 3, 'list']\n",
    "print(my_list[1])"
   ]
  },
  {
   "cell_type": "markdown",
   "metadata": {},
   "source": [
    "We need to make a change in the index because Python is a 0-index language."
   ]
  },
  {
   "cell_type": "code",
   "execution_count": 37,
   "metadata": {},
   "outputs": [
    {
     "name": "stdout",
     "output_type": "stream",
     "text": [
      "1\n"
     ]
    }
   ],
   "source": [
    "my_list = [1, 'hello', 2, 'there', 3, 'list']\n",
    "print(my_list[0])"
   ]
  },
  {
   "cell_type": "markdown",
   "metadata": {},
   "source": [
    "2. Now change the print statement so that only the words `\"hello\"`, `\"there\"`, and `\"list\"` are grabbed from `my_list` and printed. You should do this with indexing. What do you expect the type of the thing that is printed to be?"
   ]
  },
  {
   "cell_type": "code",
   "execution_count": 39,
   "metadata": {},
   "outputs": [
    {
     "name": "stdout",
     "output_type": "stream",
     "text": [
      "['hello', 'there', 'list']\n"
     ]
    }
   ],
   "source": [
    "print(my_list[1::2])"
   ]
  },
  {
   "cell_type": "markdown",
   "metadata": {},
   "source": [
    " 3. Put a line between lines 1 and 2 that adds the number `4` to the end of `my_list`."
   ]
  },
  {
   "cell_type": "code",
   "execution_count": 41,
   "metadata": {},
   "outputs": [
    {
     "name": "stdout",
     "output_type": "stream",
     "text": [
      "[1, 'hello', 2, 'there', 3, 'list', 4]\n"
     ]
    }
   ],
   "source": [
    "my_list = [1, 'hello', 2, 'there', 3, 'list']\n",
    "my_list.append(4)\n",
    "print(my_list)"
   ]
  },
  {
   "cell_type": "markdown",
   "metadata": {},
   "source": [
    "4. Change the print statement so that only the numbers in `my_list` are printed. Again, do this with indexing."
   ]
  },
  {
   "cell_type": "code",
   "execution_count": 42,
   "metadata": {},
   "outputs": [
    {
     "name": "stdout",
     "output_type": "stream",
     "text": [
      "[1, 2, 3, 4]\n"
     ]
    }
   ],
   "source": [
    "my_list = [1, 'hello', 2, 'there', 3, 'list']\n",
    "my_list.append(4)\n",
    "print(my_list[::2])"
   ]
  },
  {
   "cell_type": "markdown",
   "metadata": {},
   "source": [
    " 5. Add another line after the one with `append()` that [removes](https://docs.python.org/3/tutorial/datastructures.html) the word \"list\" from `my_list`. What do you think `my_list` looks like now? Print it to check."
   ]
  },
  {
   "cell_type": "code",
   "execution_count": 45,
   "metadata": {},
   "outputs": [
    {
     "name": "stdout",
     "output_type": "stream",
     "text": [
      "[1, 'hello', 2, 'there', 3, 4]\n"
     ]
    }
   ],
   "source": [
    "my_list = [1, 'hello', 2, 'there', 3, 'list']\n",
    "my_list.append(4)\n",
    "my_list.remove(\"list\")\n",
    "print(my_list)"
   ]
  },
  {
   "cell_type": "markdown",
   "metadata": {},
   "source": [
    "6. Now, using indexing, print only the elements in `my_list` at odd indices. You should see: `['hello', 'there', 4]` Is this what you'd expect? If not, consider how you've transformed `my_list`, and convince yourself that this makes sense."
   ]
  },
  {
   "cell_type": "code",
   "execution_count": 46,
   "metadata": {},
   "outputs": [
    {
     "name": "stdout",
     "output_type": "stream",
     "text": [
      "['hello', 'there', 4]\n"
     ]
    }
   ],
   "source": [
    "my_list = [1, 'hello', 2, 'there', 3, 'list']\n",
    "my_list.append(4)\n",
    "my_list.remove(\"list\")\n",
    "print(my_list[1::2])"
   ]
  },
  {
   "cell_type": "markdown",
   "metadata": {},
   "source": [
    "7. Remove the lines that modify `my_list`. Now add the line `user_input = input('Add the number 4 to mylist (y/n)? ')` at the top of `warmup2.py`. Modify the rest of `warmup2.py` so that if the user inputs a `y`, it will add the number 4 to the end of `my_list`, and otherwise it will do nothing. At the end, print `my_list`. Play around with different inputs. Do they work the way you'd expect?"
   ]
  },
  {
   "cell_type": "code",
   "execution_count": 51,
   "metadata": {},
   "outputs": [
    {
     "name": "stdin",
     "output_type": "stream",
     "text": [
      "Add the number 4 to mylist (y/n)?  n\n"
     ]
    },
    {
     "name": "stdout",
     "output_type": "stream",
     "text": [
      "[1, 'hello', 2, 'there', 3, 'list']\n"
     ]
    }
   ],
   "source": [
    "user_input = input('Add the number 4 to mylist (y/n)? ')\n",
    "my_list = [1, 'hello', 2, 'there', 3, 'list']\n",
    "if user_input == \"y\" or user_input == \"Y\":\n",
    "    my_list.append(4)\n",
    "print(my_list)\n"
   ]
  },
  {
   "cell_type": "markdown",
   "metadata": {},
   "source": [
    " 8. Modify `warmup2.py` so that it will accept any user inputted string. If the length of that string is less than 8, your script should add it to `my_list`, and other wise it should add the number 4 to the list. Print `my_list` at the end to see what it is."
   ]
  },
  {
   "cell_type": "code",
   "execution_count": 57,
   "metadata": {},
   "outputs": [
    {
     "name": "stdin",
     "output_type": "stream",
     "text": [
      "String to add to end of my_list:  qwertyuiop\n"
     ]
    },
    {
     "name": "stdout",
     "output_type": "stream",
     "text": [
      "[1, 'hello', 2, 'there', 3, 'list', 4]\n"
     ]
    }
   ],
   "source": [
    "user_input = input('String to add to end of my_list: ')\n",
    "my_list = [1, 'hello', 2, 'there', 3, 'list']\n",
    "\n",
    "if len(user_input) < 8:\n",
    "    my_list.append(user_input)\n",
    "else:\n",
    "    my_list.append(4)\n",
    "print(my_list)"
   ]
  },
  {
   "cell_type": "markdown",
   "metadata": {},
   "source": [
    "## 3. For Loop Warm-up"
   ]
  },
  {
   "cell_type": "markdown",
   "metadata": {},
   "source": [
    "1. Look at the code in `warmup3.py`. As in `warmup2.py`, we are printing a list. This time, though, it is displayed differently. What do you think will be printed to the console? Why does it look like this, as opposed to the format we saw in `warmup2.py`?"
   ]
  },
  {
   "cell_type": "markdown",
   "metadata": {},
   "source": [
    "Because is printing each element of the list, not the list itself."
   ]
  },
  {
   "cell_type": "markdown",
   "metadata": {},
   "source": [
    " 2. Change the code in `warmup3.py` so that it also prints the indices of the elements in `my_list`."
   ]
  },
  {
   "cell_type": "code",
   "execution_count": 58,
   "metadata": {},
   "outputs": [
    {
     "name": "stdout",
     "output_type": "stream",
     "text": [
      "hello\n",
      "there\n",
      "python\n",
      "['l', 'i', 's', 't']\n",
      "!\n"
     ]
    }
   ],
   "source": [
    "my_list = ['hello', 'there', 'python', list('list'), '!']\n",
    "for element in my_list:\n",
    "    print(element)"
   ]
  },
  {
   "cell_type": "code",
   "execution_count": 63,
   "metadata": {},
   "outputs": [
    {
     "name": "stdout",
     "output_type": "stream",
     "text": [
      "1 hello\n",
      "2 there\n",
      "3 python\n",
      "4 ['l', 'i', 's', 't']\n",
      "5 !\n"
     ]
    }
   ],
   "source": [
    "my_list = ['hello', 'there', 'python', list('list'), '!']\n",
    "for element in my_list:\n",
    "    print(my_list.index(element)+1, element)"
   ]
  },
  {
   "cell_type": "markdown",
   "metadata": {},
   "source": [
    " 3. Add an `if` to the for loop so that only the elements at odd indices are printed, along with their index."
   ]
  },
  {
   "cell_type": "code",
   "execution_count": 67,
   "metadata": {},
   "outputs": [
    {
     "name": "stdout",
     "output_type": "stream",
     "text": [
      "1 hello\n",
      "3 python\n",
      "5 !\n"
     ]
    }
   ],
   "source": [
    "my_list = ['hello', 'there', 'python', list('list'), '!']\n",
    "for element in my_list:\n",
    "    if my_list.index(element) % 2 == 0:\n",
    "        print(my_list.index(element)+1, element)"
   ]
  },
  {
   "cell_type": "markdown",
   "metadata": {},
   "source": [
    "4. Change your if statement to only print the elements that are longer than 4 characters, again along with their index. Why can you just `len()` to do this?"
   ]
  },
  {
   "cell_type": "code",
   "execution_count": 69,
   "metadata": {},
   "outputs": [
    {
     "name": "stdout",
     "output_type": "stream",
     "text": [
      "1 hello\n",
      "2 there\n",
      "3 python\n"
     ]
    }
   ],
   "source": [
    "my_list = ['hello', 'there', 'python', list('list'), '!']\n",
    "for element in my_list:\n",
    "    if len(element) > 4:\n",
    "        print(my_list.index(element)+1, element)"
   ]
  },
  {
   "cell_type": "markdown",
   "metadata": {},
   "source": [
    "5. Now, instead of just printing the elements to the console, change the script so that it adds the elements that are longer than 4 characters to a new list, called `longer_elements`. This means that you will have to create an empty list with that name before the list. Print `longer_elements` at the end of the script."
   ]
  },
  {
   "cell_type": "code",
   "execution_count": 76,
   "metadata": {},
   "outputs": [
    {
     "name": "stdout",
     "output_type": "stream",
     "text": [
      "['hello', 'there', 'python']\n"
     ]
    }
   ],
   "source": [
    "my_list = ['hello', 'there', 'python', list('list'), '!']\n",
    "longer_list = list()\n",
    "for element in my_list:\n",
    "    if len(element) > 4:\n",
    "        longer_list.append(element)\n",
    "print(longer_list)"
   ]
  },
  {
   "cell_type": "markdown",
   "metadata": {},
   "source": [
    " 6. Try printing `longer_elements` inside the for loop you created above. What do you expect to see when you run your script? Make sure you understand why you're getting this output."
   ]
  },
  {
   "cell_type": "code",
   "execution_count": 78,
   "metadata": {},
   "outputs": [
    {
     "name": "stdout",
     "output_type": "stream",
     "text": [
      "['hello']\n",
      "['hello', 'there']\n",
      "['hello', 'there', 'python']\n"
     ]
    }
   ],
   "source": [
    "my_list = ['hello', 'there', 'python', list('list'), '!']\n",
    "longer_list = list()\n",
    "for element in my_list:\n",
    "    if len(element) > 4:\n",
    "        longer_list.append(element)\n",
    "        print(longer_list)"
   ]
  },
  {
   "cell_type": "markdown",
   "metadata": {},
   "source": [
    " 7. Add the line `user_number = int(input('Min length to be printed: '))` to the top of `warmup3.py`. Now, change your script so that it only adds words that are longer than a user inputted number to `longer_elements`. You can include the statement printing `longer_elements` inside the loop if you want. Print `longer_elements` after the loop."
   ]
  },
  {
   "cell_type": "code",
   "execution_count": 81,
   "metadata": {},
   "outputs": [
    {
     "name": "stdin",
     "output_type": "stream",
     "text": [
      "Min length to be printed:  5\n"
     ]
    },
    {
     "name": "stdout",
     "output_type": "stream",
     "text": [
      "['python']\n"
     ]
    }
   ],
   "source": [
    "user_number = int(input('Min length to be printed: '))\n",
    "my_list = ['hello', 'there', 'python', list('list'), '!']\n",
    "longer_list = list()\n",
    "for element in my_list:\n",
    "    if len(element) > user_number:\n",
    "        longer_list.append(element)\n",
    "        print(longer_list)"
   ]
  },
  {
   "cell_type": "markdown",
   "metadata": {},
   "source": [
    "# Part 1 - Practice with `For` Loops"
   ]
  },
  {
   "cell_type": "markdown",
   "metadata": {},
   "source": [
    "For the first part here, take a couple of the scripts we wrote in the `intro_python_assignment.md` in Week 1, Day 2, and change them from using `while` loops to using `for` loops. Start out and just do the first two (for extra practice you could do this with the rest of the problems we worked through):  "
   ]
  },
  {
   "cell_type": "markdown",
   "metadata": {},
   "source": [
    "1. Write a script that computes and prints the factorial of a user inputted number."
   ]
  },
  {
   "cell_type": "code",
   "execution_count": 85,
   "metadata": {},
   "outputs": [
    {
     "name": "stdin",
     "output_type": "stream",
     "text": [
      "Please write a number:  4\n"
     ]
    },
    {
     "name": "stdout",
     "output_type": "stream",
     "text": [
      "24\n"
     ]
    }
   ],
   "source": [
    "y = int(input(\"Please write a number: \"))\n",
    "total = 1\n",
    "num = 1\n",
    "for num in range(1,y):\n",
    "    total *= y\n",
    "    y -= 1\n",
    "print(total)"
   ]
  },
  {
   "cell_type": "markdown",
   "metadata": {},
   "source": [
    "2. Write a script that determines whether or not a user inputted number is a prime and prints 'The number you inputted is a prime/ not a prime number.' depending on what your script finds."
   ]
  },
  {
   "cell_type": "code",
   "execution_count": 36,
   "metadata": {},
   "outputs": [
    {
     "name": "stdin",
     "output_type": "stream",
     "text": [
      "Please input a number to see if it is prime:  4\n"
     ]
    },
    {
     "name": "stdout",
     "output_type": "stream",
     "text": [
      "The number you inputted is not a prime number.\n"
     ]
    }
   ],
   "source": [
    "user_str = ''\n",
    "while not user_str.isdigit():\n",
    "    user_str = input('Please input a number to see if it is prime: ')\n",
    "potential_prime = int(user_str)\n",
    "\n",
    "prime = True\n",
    "\n",
    "for num in range(2, int(potential_prime ** 0.5) + 2):\n",
    "    if potential_prime % num == 0:\n",
    "        prime = False\n",
    "        break\n",
    "\n",
    "if prime:\n",
    "    print('The number you inputted is a prime number.')\n",
    "else:\n",
    "    print('The number you inputted is not a prime number.')"
   ]
  },
  {
   "cell_type": "markdown",
   "metadata": {},
   "source": [
    "# Part 2 - Practice with Strings"
   ]
  },
  {
   "cell_type": "markdown",
   "metadata": {},
   "source": [
    "Now you're going to work with strings, along with your knowledge of `for` loops and iteration. Remember that you can tab complete to find helpful methods that you can use to operate on strings! For some of these problems, you may not use anything new, but for others, there may be a helpful string method. As a last note, just like with many programming problems, there will be multiple ways to solve these problems."
   ]
  },
  {
   "cell_type": "markdown",
   "metadata": {},
   "source": [
    "1. Write a script that counts the occurrences of a user inputted letter in a string that is also inputted by the user. (**Hint**: Use `input()` twice to get both of the user inputs). Make sure to build this in such a way that it ignores the case of the inputted string and letter. For example if the user inputs `c`, and the string `Chelsea likes candy` your script should print 2."
   ]
  },
  {
   "cell_type": "code",
   "execution_count": 45,
   "metadata": {},
   "outputs": [
    {
     "name": "stdin",
     "output_type": "stream",
     "text": [
      "Please write a sentence:  Please write a sentence\n",
      "Please write the letter you want to count:  e\n"
     ]
    },
    {
     "name": "stdout",
     "output_type": "stream",
     "text": [
      "6\n"
     ]
    }
   ],
   "source": [
    "user_string = input(\"Please write a sentence: \")\n",
    "user_string = user_string.lower()\n",
    "pattern = input(\"Please write the letter you want to count: \")\n",
    "pattern = pattern.lower()\n",
    "\n",
    "count = 0\n",
    "num = 0\n",
    "\n",
    "\n",
    "for num in range(0,len(user_string)):\n",
    "    if user_string[num] == pattern:\n",
    "        count += 1\n",
    "        num += 1\n",
    "    else:\n",
    "        num += 1\n",
    "\n",
    "print(count)"
   ]
  },
  {
   "cell_type": "markdown",
   "metadata": {},
   "source": [
    "2. Write a script that checks if a user inputted string ends in an exclamation point. **If it does**, then print the string in all capital letters. **If it doesn't**, print the string in all lowercase letters.  "
   ]
  },
  {
   "cell_type": "code",
   "execution_count": 47,
   "metadata": {},
   "outputs": [
    {
     "name": "stdin",
     "output_type": "stream",
     "text": [
      "Please write a sentence:  Hola\n"
     ]
    },
    {
     "name": "stdout",
     "output_type": "stream",
     "text": [
      "hola\n"
     ]
    }
   ],
   "source": [
    "user_string = input(\"Please write a sentence: \")\n",
    "\n",
    "if user_string[-1] == \"!\" or user_string[-1] == \"¡\":\n",
    "    print(user_string.upper())\n",
    "else:\n",
    "    print(user_string.lower())\n"
   ]
  },
  {
   "cell_type": "markdown",
   "metadata": {},
   "source": [
    "3. Write a script that removes all of the vowels in a user inputted string."
   ]
  },
  {
   "cell_type": "code",
   "execution_count": null,
   "metadata": {},
   "outputs": [],
   "source": [
    "user_string = input(\"Please write a sentence: \")\n",
    "list_vocal = [\"a\", \"e\", \"i\", \"o\", \"u\"]\n",
    "num = 0\n",
    "out_string = str()\n",
    "\n",
    "for num in range(0,len(user_string)):\n",
    "    if user_string[num] in list_vocal:\n",
    "        num += 1\n",
    "    else:\n",
    "        out_string += user_string[num]\n",
    "\n",
    "print(out_string)"
   ]
  },
  {
   "cell_type": "markdown",
   "metadata": {},
   "source": [
    "4. Write a script that makes every other letter of a user inputted string capitalized."
   ]
  },
  {
   "cell_type": "code",
   "execution_count": 54,
   "metadata": {},
   "outputs": [
    {
     "name": "stdin",
     "output_type": "stream",
     "text": [
      "Please write a sentence:  hola\n"
     ]
    },
    {
     "name": "stdout",
     "output_type": "stream",
     "text": [
      "HoLa\n"
     ]
    }
   ],
   "source": [
    "user_string = input(\"Please write a sentence: \")\n",
    "out_string = str()\n",
    "for num in range(0,len(user_string)):\n",
    "    if num % 2 == 0:\n",
    "        out_string += user_string[num].upper()\n",
    "    else:\n",
    "        out_string += user_string[num]\n",
    "\n",
    "print(out_string)"
   ]
  },
  {
   "cell_type": "markdown",
   "metadata": {},
   "source": [
    "# Part 3 - Practice with Lists"
   ]
  },
  {
   "cell_type": "markdown",
   "metadata": {},
   "source": [
    "1. Write a script that creates a list of only the even numbers between 0 and a user inputted number."
   ]
  },
  {
   "cell_type": "code",
   "execution_count": null,
   "metadata": {},
   "outputs": [],
   "source": []
  }
 ],
 "metadata": {
  "kernelspec": {
   "display_name": "Python 3",
   "language": "python",
   "name": "python3"
  },
  "language_info": {
   "codemirror_mode": {
    "name": "ipython",
    "version": 3
   },
   "file_extension": ".py",
   "mimetype": "text/x-python",
   "name": "python",
   "nbconvert_exporter": "python",
   "pygments_lexer": "ipython3",
   "version": "3.7.3"
  }
 },
 "nbformat": 4,
 "nbformat_minor": 2
}
