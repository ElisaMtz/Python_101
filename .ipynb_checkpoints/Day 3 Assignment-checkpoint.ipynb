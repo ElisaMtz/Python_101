{
 "cells": [
  {
   "cell_type": "markdown",
   "metadata": {},
   "source": [
    "# Day 3 Assignment"
   ]
  },
  {
   "cell_type": "markdown",
   "metadata": {},
   "source": [
    "### 1. Tuple warm up"
   ]
  },
  {
   "cell_type": "markdown",
   "metadata": {},
   "source": [
    "1. Look at the code in `warmup1.py`. What do you think this `tuple` is storing? If I tell you it is storing the four suits of a standard card deck, can you tell me why it's appropriate that I use a `tuple` for this?"
   ]
  },
  {
   "cell_type": "code",
   "execution_count": 13,
   "metadata": {},
   "outputs": [
    {
     "name": "stdout",
     "output_type": "stream",
     "text": [
      "('diamond', 'spade')\n"
     ]
    }
   ],
   "source": [
    "# Warmup1.py\n",
    "my_tup = ('diamond', 'club', 'spade', 'heart')\n",
    "print(my_tup[::2])"
   ]
  },
  {
   "cell_type": "markdown",
   "metadata": {},
   "source": [
    "Because this values will ever change, a **tuple** can not be changed, only accesed."
   ]
  },
  {
   "cell_type": "markdown",
   "metadata": {},
   "source": [
    "2. Run `warmup1.py`, and note what it originally prints."
   ]
  },
  {
   "cell_type": "code",
   "execution_count": 14,
   "metadata": {},
   "outputs": [
    {
     "name": "stdout",
     "output_type": "stream",
     "text": [
      "('diamond', 'club', 'spade', 'heart')\n"
     ]
    }
   ],
   "source": [
    "print(my_tup)"
   ]
  },
  {
   "cell_type": "markdown",
   "metadata": {},
   "source": [
    "3. Now, change the print statement to print out the 1st element in the `tuple` (e.g. `diamond`)."
   ]
  },
  {
   "cell_type": "code",
   "execution_count": 15,
   "metadata": {},
   "outputs": [
    {
     "name": "stdout",
     "output_type": "stream",
     "text": [
      "('diamond',)\n"
     ]
    }
   ],
   "source": [
    "print(my_tup[0:1])"
   ]
  },
  {
   "cell_type": "markdown",
   "metadata": {},
   "source": [
    "4. Now, change the print statement to print out every other element."
   ]
  },
  {
   "cell_type": "code",
   "execution_count": 16,
   "metadata": {},
   "outputs": [
    {
     "name": "stdout",
     "output_type": "stream",
     "text": [
      "('club', 'spade', 'heart')\n"
     ]
    }
   ],
   "source": [
    "print(my_tup[1:])"
   ]
  },
  {
   "cell_type": "markdown",
   "metadata": {},
   "source": [
    "5. Why are we able to grab individual elements (or every other element) from the `tuple` just as if it is a `list`?"
   ]
  },
  {
   "cell_type": "markdown",
   "metadata": {},
   "source": [
    "Becuase a tuple is an immutable list."
   ]
  },
  {
   "cell_type": "markdown",
   "metadata": {},
   "source": [
    "6. Now, alter it so that it prints out each of the elements, one at a time on a new line. Use a `for` loop to do this. Why are we able to use a `for` loop on the `tuple` like this?"
   ]
  },
  {
   "cell_type": "code",
   "execution_count": 17,
   "metadata": {},
   "outputs": [
    {
     "name": "stdout",
     "output_type": "stream",
     "text": [
      "diamond\n",
      "club\n",
      "spade\n",
      "heart\n"
     ]
    }
   ],
   "source": [
    "for x in range(len(my_tup)):\n",
    "    print(my_tup[x])\n",
    "    x += 1"
   ]
  },
  {
   "cell_type": "markdown",
   "metadata": {},
   "source": [
    "7.  Now, say that I want to add a new suit to my card deck. Let's call it `gorilla` (who doesn't like a gorilla suit). How would I do this? Why can't we use `append` on a `tuple` like we can on a `list`?"
   ]
  },
  {
   "cell_type": "code",
   "execution_count": 18,
   "metadata": {},
   "outputs": [
    {
     "data": {
      "text/plain": [
       "('diamond', 'club', 'spade', 'heart', 'gorilla')"
      ]
     },
     "execution_count": 18,
     "metadata": {},
     "output_type": "execute_result"
    }
   ],
   "source": [
    "my_tup_l = list(my_tup)\n",
    "my_tup_l.append(\"gorilla\")\n",
    "my_tup = tuple(my_tup_l)\n",
    "my_tup"
   ]
  },
  {
   "cell_type": "markdown",
   "metadata": {},
   "source": [
    "We must convert first to a list and then make the changes and reconvert to a tuple. We can not use append() because a Tuple can not be edited."
   ]
  },
  {
   "cell_type": "markdown",
   "metadata": {},
   "source": [
    "### 2. Dictionary warm up"
   ]
  },
  {
   "cell_type": "markdown",
   "metadata": {},
   "source": [
    "1. Don't run the code yet! First, examine the code in `warmup2.py`. What do you think it will print when run? Why does it print this?"
   ]
  },
  {
   "cell_type": "markdown",
   "metadata": {},
   "source": [
    "It will print each element in one line."
   ]
  },
  {
   "cell_type": "markdown",
   "metadata": {},
   "source": [
    "2. Why is it appropriate to use a dictionary in this scenario?"
   ]
  },
  {
   "cell_type": "markdown",
   "metadata": {},
   "source": [
    "Because each key has values that are related to it, so it doesn't make any sense to print each element."
   ]
  },
  {
   "cell_type": "markdown",
   "metadata": {},
   "source": [
    "3. Okay, so you will by now have noticed what it printed. Change the `element` variable that is storing the key through each iteration of the loop to be a more descriptive variable name."
   ]
  },
  {
   "cell_type": "code",
   "execution_count": 32,
   "metadata": {},
   "outputs": [
    {
     "name": "stdout",
     "output_type": "stream",
     "text": [
      "Texas\n",
      "Indiana\n",
      "Illinois\n",
      "New York\n"
     ]
    }
   ],
   "source": [
    "# Warmup2.py\n",
    "my_dct = {'Texas': 'Austin', 'Indiana': 'Indianapolis', 'Illinois': 'Chicago', 'New York': 'New York City'}\n",
    "for element in my_dct:\n",
    "    print(element)"
   ]
  },
  {
   "cell_type": "code",
   "execution_count": 36,
   "metadata": {},
   "outputs": [
    {
     "name": "stdout",
     "output_type": "stream",
     "text": [
      "key:Texas\n",
      "key:Indiana\n",
      "key:Illinois\n",
      "key:New York\n"
     ]
    }
   ],
   "source": [
    "for element in my_dct.keys():\n",
    "    print(\"key:{}\".format(element))"
   ]
  },
  {
   "cell_type": "markdown",
   "metadata": {},
   "source": [
    "4. Now, change the loop so that it not only prints the `key` at every iteration, but both the `key` and `value` (i.e. print the state as well as the city in the loop)."
   ]
  },
  {
   "cell_type": "code",
   "execution_count": 24,
   "metadata": {},
   "outputs": [
    {
     "name": "stdout",
     "output_type": "stream",
     "text": [
      "key:Texas, value:Austin\n",
      "key:Indiana, value:Indianapolis\n",
      "key:Illinois, value:Chicago\n",
      "key:New York, value:New York City\n"
     ]
    }
   ],
   "source": [
    "for key,val in my_dct.items():\n",
    "    print(\"key:{}, value:{}\".format(key,val))"
   ]
  },
  {
   "cell_type": "markdown",
   "metadata": {},
   "source": [
    "5. Build another dictionary that stores the state and capital of the state you grew up in, as well as the state and capital of the state your neighbor grew up in. Call this `neighbor_dct`, and put it on the second line of the `warmup2.py` script (before the `for` loop)."
   ]
  },
  {
   "cell_type": "code",
   "execution_count": 29,
   "metadata": {},
   "outputs": [
    {
     "name": "stdout",
     "output_type": "stream",
     "text": [
      "Texas\n",
      "Indiana\n",
      "Illinois\n",
      "New York\n"
     ]
    }
   ],
   "source": [
    "my_dct = {'Texas': 'Austin', 'Indiana': 'Indianapolis', 'Illinois': 'Chicago', 'New York': 'New York City'}\n",
    "neighbor_dct = {\"Nuevo Leon\": \"Monterrey\", \"Coahuila\": \"Saltillo\"}\n",
    "for element in my_dct:\n",
    "    print(element)"
   ]
  },
  {
   "cell_type": "markdown",
   "metadata": {},
   "source": [
    "6. Now, add a line before the for loop that adds the key-value pairs in `neighbor_dct` to `my_dct`. `my_dct` should now have the contents from it's previous state and also `neighbor_dct`."
   ]
  },
  {
   "cell_type": "code",
   "execution_count": 30,
   "metadata": {},
   "outputs": [
    {
     "name": "stdout",
     "output_type": "stream",
     "text": [
      "Texas\n",
      "Indiana\n",
      "Illinois\n",
      "New York\n",
      "Nuevo Leon\n",
      "Coahuila\n"
     ]
    }
   ],
   "source": [
    "my_dct = {'Texas': 'Austin', 'Indiana': 'Indianapolis', 'Illinois': 'Chicago', 'New York': 'New York City'}\n",
    "neighbor_dct = {\"Nuevo Leon\": \"Monterrey\", \"Coahuila\": \"Saltillo\"}\n",
    "my_dct.update(neighbor_dct)\n",
    "for element in my_dct:\n",
    "    print(element)"
   ]
  },
  {
   "cell_type": "markdown",
   "metadata": {},
   "source": [
    "7. Modify `warmup2.py` to take in a user inputted state. Then, take that user inputted state, and if it is in `my_dct`, print out it's capital. If it's not, then print out 'Capital not found!'."
   ]
  },
  {
   "cell_type": "code",
   "execution_count": 44,
   "metadata": {},
   "outputs": [
    {
     "name": "stdin",
     "output_type": "stream",
     "text": [
      "Please write your state:  Coahuila\n"
     ]
    },
    {
     "name": "stdout",
     "output_type": "stream",
     "text": [
      "Capital not found!\n"
     ]
    }
   ],
   "source": [
    "state_input = input(\"Please write your state: \")\n",
    "my_dct = {'Texas': 'Austin', 'Indiana': 'Indianapolis', 'Illinois': 'Chicago', 'New York': 'New York City'}\n",
    "if state_input in my_dct:\n",
    "    for key,val in my_dct.items():\n",
    "        if key == state_input:\n",
    "            print(\"value:{}\".format(val))\n",
    "else:\n",
    "    print(\"Capital not found!\")"
   ]
  },
  {
   "cell_type": "markdown",
   "metadata": {},
   "source": [
    "8. Now, modify `warmup2.py` to ask the user for a state name. If it is not already in `my_dct`, have your script prompt the user for a capital to associate with that state name."
   ]
  },
  {
   "cell_type": "code",
   "execution_count": 50,
   "metadata": {},
   "outputs": [
    {
     "name": "stdin",
     "output_type": "stream",
     "text": [
      "Please write your state:  Coahuila\n"
     ]
    },
    {
     "name": "stdout",
     "output_type": "stream",
     "text": [
      "We do not have that information\n"
     ]
    },
    {
     "name": "stdin",
     "output_type": "stream",
     "text": [
      "Please write the capital for Coahuila. Saltillo\n"
     ]
    },
    {
     "name": "stdout",
     "output_type": "stream",
     "text": [
      "key:Texas, value:Austin\n",
      "key:Indiana, value:Indianapolis\n",
      "key:Illinois, value:Chicago\n",
      "key:New York, value:New York City\n",
      "key:Coahuila, value:Saltillo\n"
     ]
    }
   ],
   "source": [
    "state_input = input(\"Please write your state: \")\n",
    "my_dct = {'Texas': 'Austin', 'Indiana': 'Indianapolis', 'Illinois': 'Chicago', 'New York': 'New York City'}\n",
    "if state_input in my_dct:\n",
    "    for key,val in my_dct.items():\n",
    "        if key == state_input:\n",
    "            print(\"value:{}\".format(val))\n",
    "else:\n",
    "    print(\"We do not have that information\")\n",
    "    capital_input = input(\"Please write the capital for \" + state_input + \".\")\n",
    "    my_dct[state_input] = capital_input\n",
    "    for key,val in my_dct.items():\n",
    "        print(\"key:{}, value:{}\".format(key,val))\n",
    "    "
   ]
  },
  {
   "cell_type": "markdown",
   "metadata": {},
   "source": [
    "### 3. Set warm up"
   ]
  },
  {
   "cell_type": "markdown",
   "metadata": {},
   "source": [
    "1. Run `warmup3.py`. Why are we able to use a `for` loop to print out the elements of `my_set`?"
   ]
  },
  {
   "cell_type": "code",
   "execution_count": 51,
   "metadata": {},
   "outputs": [
    {
     "name": "stdout",
     "output_type": "stream",
     "text": [
      "2\n",
      "3\n",
      "5\n"
     ]
    }
   ],
   "source": [
    "# Warmup3.py\n",
    "my_set = {2, 3, 5}\n",
    "for num in my_set:\n",
    "    print(num)"
   ]
  },
  {
   "cell_type": "markdown",
   "metadata": {},
   "source": [
    "Because a set is a mutable collection of unique items, it doesn't matter in which order are."
   ]
  },
  {
   "cell_type": "markdown",
   "metadata": {},
   "source": [
    "2. On the second line, create a new set (you'll have to move the `for` and everything below it down one line). Call it `my_fav_primes`, and enter 3 of your favorite prime numbers."
   ]
  },
  {
   "cell_type": "code",
   "execution_count": 53,
   "metadata": {},
   "outputs": [
    {
     "name": "stdout",
     "output_type": "stream",
     "text": [
      "2\n",
      "3\n",
      "5\n"
     ]
    }
   ],
   "source": [
    "my_set = {2, 3, 5}\n",
    "my_fav_primes = {5, 7, 9}\n",
    "for num in my_set:\n",
    "    print(num)"
   ]
  },
  {
   "cell_type": "markdown",
   "metadata": {},
   "source": [
    "3. Now, move everything down one more line, and create a third set that gives the numbers that `my_set` and `my_fav_primes` have in common. Alter the `for` loop to print out the numbers in this new `set`."
   ]
  },
  {
   "cell_type": "code",
   "execution_count": 57,
   "metadata": {},
   "outputs": [
    {
     "name": "stdout",
     "output_type": "stream",
     "text": [
      "5\n"
     ]
    }
   ],
   "source": [
    "my_set = {2, 3, 5}\n",
    "my_fav_primes = {5, 7, 9}\n",
    "temp = my_set.intersection(my_fav_primes)\n",
    "for num in temp:\n",
    "    print(num)"
   ]
  },
  {
   "cell_type": "markdown",
   "metadata": {},
   "source": [
    "4. Change your code to get only the numbers that are in `my_set` but aren't in `my_fav_primes`. Store these in a third set, and alter the `for` loop to print out the numbers in this third set."
   ]
  },
  {
   "cell_type": "code",
   "execution_count": 58,
   "metadata": {},
   "outputs": [
    {
     "name": "stdout",
     "output_type": "stream",
     "text": [
      "2\n",
      "3\n"
     ]
    }
   ],
   "source": [
    "my_set = {2, 3, 5}\n",
    "my_fav_primes = {5, 7, 9}\n",
    "temp = my_set.difference(my_fav_primes)\n",
    "for num in temp:\n",
    "    print(num)"
   ]
  },
  {
   "cell_type": "markdown",
   "metadata": {},
   "source": [
    "5. Create a new set with the elements from both `my_fav_primes` and `my_set`, and name it `my_tot_primes`. Alter the `for` loop to print out its values."
   ]
  },
  {
   "cell_type": "code",
   "execution_count": 59,
   "metadata": {},
   "outputs": [
    {
     "name": "stdout",
     "output_type": "stream",
     "text": [
      "2\n",
      "3\n",
      "5\n",
      "7\n",
      "9\n"
     ]
    }
   ],
   "source": [
    "my_set = {2, 3, 5}\n",
    "my_fav_primes = {5, 7, 9}\n",
    "my_tot_primes = my_set.union(my_fav_primes)\n",
    "for num in my_tot_primes:\n",
    "    print(num)"
   ]
  },
  {
   "cell_type": "markdown",
   "metadata": {},
   "source": [
    "6. Now, modify `warmup3.py` to take in a user inputted prime, and then add it to `my_tot_primes`."
   ]
  },
  {
   "cell_type": "code",
   "execution_count": 1,
   "metadata": {},
   "outputs": [
    {
     "name": "stdin",
     "output_type": "stream",
     "text": [
      "Please write a prime number:  11\n"
     ]
    },
    {
     "name": "stdout",
     "output_type": "stream",
     "text": [
      "2\n",
      "3\n",
      "5\n",
      "7\n",
      "9\n",
      "11\n"
     ]
    }
   ],
   "source": [
    "prime_input = int(input(\"Please write a prime number: \"))\n",
    "my_set = {2, 3, 5}\n",
    "my_fav_primes = {5, 7, 9}\n",
    "my_tot_primes = my_set.union(my_fav_primes)\n",
    "my_tot_primes.add(prime_input)\n",
    "for num in my_tot_primes:\n",
    "    print(num)"
   ]
  },
  {
   "cell_type": "markdown",
   "metadata": {},
   "source": [
    "# Assignment Questions\n",
    "### Part 1 - Practice with Tuples"
   ]
  },
  {
   "cell_type": "markdown",
   "metadata": {},
   "source": [
    "1. Write a script that prompts the user to input numbers separated by commas. Your script will then take these inputted numbers and store them as a list of tuples, two at a time. Finally, your script will print that list of tuples to the user. If the user inputs an odd number of numbers, then only make a list of the largest number of pairs of two that are possible."
   ]
  },
  {
   "cell_type": "code",
   "execution_count": 38,
   "metadata": {},
   "outputs": [
    {
     "name": "stdin",
     "output_type": "stream",
     "text": [
      "Please write numbers separated by a comma:  1,2,3,4,5,6,7,8,9\n"
     ]
    },
    {
     "name": "stdout",
     "output_type": "stream",
     "text": [
      "[(1, 2), (3, 4), (5, 6), (7, 8)]\n"
     ]
    }
   ],
   "source": [
    "user_input = input(\"Please write numbers separated by a comma: \")\n",
    "temp_list = user_input.split(\",\")\n",
    "temp_int = list()\n",
    "#Convert to int\n",
    "for i in temp_list:\n",
    "    temp_int.append(int(i))\n",
    "#Eliminates last number if the list are not pair\n",
    "if len(temp_int) % 2 != 0:\n",
    "    temp_int.pop()\n",
    "\n",
    "temp_int1 = temp_int.copy()\n",
    "temp_int1.pop()\n",
    "temp_int.pop(0)\n",
    "temp_int2 = temp_int.copy()\n",
    "\n",
    "temp_int3 = temp_int1[::2]\n",
    "temp_int4 = temp_int2[::2]\n",
    "\n",
    "temp_tpl = zip(temp_int3, temp_int4)\n",
    "print(list(temp_tpl))"
   ]
  },
  {
   "cell_type": "markdown",
   "metadata": {},
   "source": [
    "### Part 2 - Practice with Dictionaries"
   ]
  },
  {
   "cell_type": "markdown",
   "metadata": {},
   "source": [
    "1. Write a script that prompts the user to input numbers separated by dashes ( - ). Your script will take those numbers, and print a dictionary where the keys are the inputted numbers, and the values are the squares of those numbers."
   ]
  },
  {
   "cell_type": "code",
   "execution_count": 43,
   "metadata": {},
   "outputs": [
    {
     "name": "stdin",
     "output_type": "stream",
     "text": [
      "Please write numbers separated by a dash (-):  1-5-2-8\n"
     ]
    },
    {
     "name": "stdout",
     "output_type": "stream",
     "text": [
      "key:1, value:1\n",
      "key:5, value:25\n",
      "key:2, value:4\n",
      "key:8, value:64\n"
     ]
    }
   ],
   "source": [
    "user_input = input(\"Please write numbers separated by a dash (-): \")\n",
    "temp_list = user_input.split(\"-\")\n",
    "temp_int = list()\n",
    "\n",
    "for i in temp_list:\n",
    "    temp_int.append(int(i))\n",
    "\n",
    "# Creates a dictionary with the inputted keys    \n",
    "temp_dct = dict.fromkeys(temp_int)\n",
    "\n",
    "# Creates values of each key (squares)\n",
    "for key, val in temp_dct.items():\n",
    "    val = key**2\n",
    "    print(\"key:{}, value:{}\".format(key,val))"
   ]
  },
  {
   "cell_type": "markdown",
   "metadata": {},
   "source": [
    "2. Write a script that prompts the user for a state name. It will then check that state name against the dictionary below to give back the capital of that state. However, you'll notice that the dictionary doesn't know the capitals for all the states. If the user inputs the name of a state that isn't in the dictionary, your script should print that the capital is unknown."
   ]
  },
  {
   "cell_type": "code",
   "execution_count": 47,
   "metadata": {},
   "outputs": [
    {
     "name": "stdin",
     "output_type": "stream",
     "text": [
      "Please write a State:  TEXAS\n"
     ]
    },
    {
     "name": "stdout",
     "output_type": "stream",
     "text": [
      "texas\n",
      "Capital unknown.\n"
     ]
    }
   ],
   "source": [
    "state_input = input(\"Please write a State: \").lower()\n",
    "state_dictionary = {'Colorado': 'Denver', 'Alaska': 'Juneau', 'California': 'Sacramento',\n",
    "                        'Georgia': 'Atlanta', 'Kansas': 'Topeka', 'Nebraska': 'Lincoln',\n",
    "                        'Oregon': 'Salem', 'Texas': 'Austin', 'New York': 'Albany'}\n",
    "\n",
    "for k, v in {'My Key': 'My Value'}.iteritems():\n",
    "    outdict[k.lower()] = v.lower()\n",
    "\n",
    "\n",
    "if state_input in state_dictionary:\n",
    "    for key,val in state_dictionary.items():\n",
    "        if key == state_input:\n",
    "            print(\"value:{}\".format(val))\n",
    "else:\n",
    "    print(\"Capital unknown.\")"
   ]
  },
  {
   "cell_type": "code",
   "execution_count": null,
   "metadata": {},
   "outputs": [],
   "source": []
  }
 ],
 "metadata": {
  "kernelspec": {
   "display_name": "Python 3",
   "language": "python",
   "name": "python3"
  },
  "language_info": {
   "codemirror_mode": {
    "name": "ipython",
    "version": 3
   },
   "file_extension": ".py",
   "mimetype": "text/x-python",
   "name": "python",
   "nbconvert_exporter": "python",
   "pygments_lexer": "ipython3",
   "version": "3.7.3"
  }
 },
 "nbformat": 4,
 "nbformat_minor": 2
}
