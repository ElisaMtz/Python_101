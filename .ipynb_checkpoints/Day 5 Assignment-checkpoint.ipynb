{
 "cells": [
  {
   "cell_type": "markdown",
   "metadata": {},
   "source": [
    "# Day 5 Assignment\n",
    "# Beginning Class Assignments\n",
    "## Warmup\n",
    "### Part 1\n",
    "For the first set of problems, we'll give you a class constructor and ask that you fill it in according to some specifications. \n",
    "\n",
    "1. Let's make a `Dog` class. In this dog class, we've gone ahead and given the skeleton for the `__init__` method, as well as a `wag_tail` method. We want you to fill these in such that: \n",
    "\n",
    " * In the `__init__` method, we assign to our `Dog` class a `name` attribute and a `happiness_level` attribute. \n",
    " * In the `wag_tail` method, the `Dog` \"wags it's tail\" for the inputted `n` number of times, and each time it wags it's tail, it's `happiness_level` increases by 5. "
   ]
  },
  {
   "cell_type": "code",
   "execution_count": 1,
   "metadata": {},
   "outputs": [],
   "source": [
    "class Dog(): \n",
    "    \"\"\"This docstring will discuss how to interact with our Dog class. \n",
    "\n",
    "    Our Dog class will have two attributes - a name and happiness_level. \n",
    "    It's one method, wag_tail, will simulate the dog wagging it's tail \n",
    "    some number of times, and increasing it's happiness level. \n",
    "\n",
    "    Parameters: \n",
    "    -----------\n",
    "        name: str\n",
    "        happiness_level: int\n",
    "    \"\"\"\n",
    "    \n",
    "    def __init__(self, name, happiness_level=5): \n",
    "        pass\n",
    "\n",
    "    def wag_tail(self, n): \n",
    "        \"\"\"Wags the dogs tail n times, and each time increase \n",
    "        happiness level by 5. \n",
    "\n",
    "        Args: \n",
    "            n: int\n",
    "        \"\"\"\n",
    "        pass"
   ]
  },
  {
   "cell_type": "markdown",
   "metadata": {},
   "source": [
    " * What does it mean for me to have put an `=5` after the `happiness_level` parameter in the `__init__` method?\n",
    "    - Is the default value for happiness_level.\n",
    " * Why do I have to pass self as the first argument in both the `__init__` method and the `wag_tail` method?\n",
    "    - Because is referring itself in order to assign attributes."
   ]
  },
  {
   "cell_type": "markdown",
   "metadata": {},
   "source": [
    "2. Now, let's build a `Cat` class. In this cat class, we've again given you the skeleton for the `__init__` method, as well as a method called `sense_earthquake` (I just read in Reader's Digest that cat's can sense earthquakes - who knew?). We want you to fill these in such that: \n",
    "\n",
    " * In the `__init__` method, we assign to our `Cat` class a `name` attribute, a `laziness_level` attribute, and a `location` attribute. See the docstring for a description of the specific information that each attribute should contain. \n",
    " * In the `sense_earthquake` method, if there is an earthquake, the cat's `location` attribute changes to the string `'gone dark'` and we print the string `<name> has gone dark!` (where `<name>` is equal to the `name` attribute of the cat). If there is no earthquake, then we print the current location and name of the cat (e.g. `<name> is at <location>`). "
   ]
  },
  {
   "cell_type": "code",
   "execution_count": 3,
   "metadata": {},
   "outputs": [],
   "source": [
    "class Cat(): \n",
    "    \"\"\"This docstring will discuss how to interact with our Cat class. \n",
    "\n",
    "    Our Cat class will have three attributes - a name, laziness level,  \n",
    "    and a location. It's one method, sense_earthquake, will change \n",
    "    the cats location based on whether or not there is an earthquake. \n",
    "\n",
    "    Parameters\n",
    "    ----------\n",
    "        name: str \n",
    "        laziness_level: int\n",
    "            This holds how lazy the cat is on a scale of 1 to 10. \n",
    "        location: str\n",
    "            This holds where the cat is currently located at. \n",
    "    \"\"\"\n",
    "\n",
    "    def __init__(self, name, laziness_level = 5, location = \"Home\"): \n",
    "        pass\n",
    "\n",
    "    def sense_earthquake(self, earthquake): \n",
    "        \"\"\"Checks if the cat senses an earthquake, and if so changes the cat's\n",
    "        location to 'gone dark'. \n",
    "\n",
    "        Args: \n",
    "            earthquake: boolean\n",
    "                Holds a True or False as to whether there was an earthquake. \n",
    "        \"\"\"\n",
    "        pass"
   ]
  },
  {
   "cell_type": "markdown",
   "metadata": {},
   "source": [
    " * Can you change your definition of the `__init__` method so that any instances of our cat have a `laziness_level` of 5 and a `location` of \"home\" if arguments for those parameters are not passed in at instantiation? "
   ]
  },
  {
   "cell_type": "markdown",
   "metadata": {},
   "source": [
    "### Part 2\n",
    "1. Using the following code snippets, we want you to define a `Car` class. We've given you the code for an `__init__` method and a `drive` method. We want you to build the class definition, as well as the definitions for these two methods. \n",
    "\n",
    " * `__init__` method code  \n",
    "\n",
    " We want there to be three parameters passed in - `model`, `color`, \n",
    "and `tank_size`. \n",
    "\n",
    " ```python \n",
    "self.model = model \n",
    "self.color = color\n",
    "self.tank_size = tank_size\n",
    "self.gallons_of_gas = self.tank_size # We're assuming its tank is full. \n",
    "```\n",
    "\n",
    "\n",
    " * `drive` method code \n",
    "\n",
    " We want there to be one parameter passed in - `miles_driven`. \n",
    "\n",
    " ```python\n",
    "self.gallons_of_gas -= miles_driven / 10. \n",
    "```\n"
   ]
  },
  {
   "cell_type": "code",
   "execution_count": 9,
   "metadata": {},
   "outputs": [
    {
     "data": {
      "text/plain": [
       "('Yaris', 'Blue', 20, 20)"
      ]
     },
     "execution_count": 9,
     "metadata": {},
     "output_type": "execute_result"
    }
   ],
   "source": [
    "class CarClass():\n",
    "    def __init__(self, model, color, tank_size):\n",
    "        self.model = model\n",
    "        self.color = color\n",
    "        self.tank_size = tank_size\n",
    "        self.gallons_of_gas = self.tank_size # We're assuming its tank is full.\n",
    "    \n",
    "    def drive_method(self, miles_driven):\n",
    "        self.gallons_of_gas -= miles_driven / 10\n",
    "\n",
    "temp = CarClass(\"Yaris\", \"Blue\", 20)\n",
    "temp.model, temp.color, temp.tank_size, temp.gallons_of_gas"
   ]
  },
  {
   "cell_type": "code",
   "execution_count": 11,
   "metadata": {},
   "outputs": [
    {
     "data": {
      "text/plain": [
       "16.0"
      ]
     },
     "execution_count": 11,
     "metadata": {},
     "output_type": "execute_result"
    }
   ],
   "source": [
    "temp.drive_method(20)\n",
    "temp.gallons_of_gas"
   ]
  },
  {
   "cell_type": "markdown",
   "metadata": {},
   "source": [
    " * Note that for each of these methods above, I didn't include a certain parameter that is passed **by deafult** to any method within a class - what is that parameter? Can you describe exactly what it is used for?"
   ]
  },
  {
   "cell_type": "markdown",
   "metadata": {},
   "source": [
    "2. Using the following code snippets, we want you to define a `Plane` class. We've given you the code for an `__init__` method and a `fly` method. We want you to build the class definition, as well as the definition for these two methods.   \n",
    "\n",
    " * `__init__` method code\n",
    "\n",
    " We want there to be three parameters passed in - `destination`, `departure_city`, and `trip_distance`. \n",
    "\n",
    " ```python\n",
    " self.destination = destination \n",
    " self.departure_city = departure_city\n",
    " self.trip_distance = trip_distance\n",
    " ```\n",
    "\n",
    " * `fly` method code \n",
    "\n",
    " We don't want any parameters to be passed in. \n",
    "\n",
    " ```python \n",
    " self.departure_city, self.destination = self.destination, self.departure_city\n",
    " ```\n",
    " \n",
    " In looking at the code for the `fly` method, can you take a guess at what it is doing? It turns out that this is a special way that we can do simultaneous variable assignment so that we don't have to use a placeholder. If we were to try to do the above via the following, we would not get the intended result:  \n",
    "\n",
    " ```python\n",
    " self.departure_city = self.destination\n",
    " self.destination = self.departure_city\n",
    " ```\n",
    "\n",
    " This would result in us with `departure_city` and `destination` being equal to the exact same thing! A way to get around this would be to use a placeholder for the `departure_city` value **before** it gets changed: \n",
    "\n",
    " ```python \n",
    " placeholder = self.departure_city\n",
    " self.departure_city = self.destination\n",
    " self.destination = placeholder \n",
    " ```\n",
    "\n",
    " The one line of code that we gave above for the `fly` method is just shorthand for this same thing. It allows us to do a swap **in place** so that we can avoid having to use a placeholder. "
   ]
  },
  {
   "cell_type": "code",
   "execution_count": 20,
   "metadata": {},
   "outputs": [],
   "source": [
    "class PlaneClass():\n",
    "    \n",
    "    def __init__(self, destination, departure_city, trip_distance):\n",
    "        self.destination = destination \n",
    "        self.departure_city = departure_city\n",
    "        self.trip_distance = trip_distance\n",
    "    \n",
    "    def fly(self):\n",
    "        self.departure_city, self.destination = self.destination, self.departure_city\n",
    "\n",
    "temp = PlaneClass(\"Monterrey\", \"Cd Mexico\", 200)"
   ]
  },
  {
   "cell_type": "code",
   "execution_count": 21,
   "metadata": {},
   "outputs": [
    {
     "data": {
      "text/plain": [
       "('Monterrey', 'Cd Mexico', 200)"
      ]
     },
     "execution_count": 21,
     "metadata": {},
     "output_type": "execute_result"
    }
   ],
   "source": [
    "temp.destination, temp.departure_city, temp.trip_distance"
   ]
  },
  {
   "cell_type": "code",
   "execution_count": 26,
   "metadata": {},
   "outputs": [],
   "source": [
    "temp.fly()"
   ]
  },
  {
   "cell_type": "code",
   "execution_count": 27,
   "metadata": {},
   "outputs": [
    {
     "data": {
      "text/plain": [
       "('Cd Mexico', 'Monterrey', 200)"
      ]
     },
     "execution_count": 27,
     "metadata": {},
     "output_type": "execute_result"
    }
   ],
   "source": [
    "temp.destination, temp.departure_city, temp.trip_distance"
   ]
  },
  {
   "cell_type": "markdown",
   "metadata": {},
   "source": [
    "## Assignment Questions\n",
    "1. Let's build a `Company` class, used to represent some company (Denver Beer Co., Qdoba, Chipotle, etc.). \n",
    "\n",
    "    1. In this class, we'll have the following attributes: \n",
    "\n",
    "        * `name` - `str` holding the name of the company \n",
    "        * `industry_type` - `str` holding what industry the company belongs to\n",
    "        * `num_employees` - `int` holding the number of employees the company has\n",
    "        * `total_revenue` - `float` holding the total revenue of the company \n",
    "\n",
    "    2. Instances of the `Company` class will have the following methods: \n",
    "\n",
    "        * `serve_customer` - this method will take in a `float` that is equal to the cost of serving some customer, and then adjust the `total_revenue` by that cost. \n",
    "        * `gain_employees` - this method will take in a `list` that contains new employees that the company has just brought on, and will update the `num_employees` attribute to take account of that. "
   ]
  },
  {
   "cell_type": "code",
   "execution_count": 28,
   "metadata": {},
   "outputs": [
    {
     "data": {
      "text/plain": [
       "('Cemex', 'Building', 2000, 5000000)"
      ]
     },
     "execution_count": 28,
     "metadata": {},
     "output_type": "execute_result"
    }
   ],
   "source": [
    "class CompanyClass():\n",
    "    \n",
    "    def __init__(self, name, industry_type, num_employees, total_revenue):\n",
    "        self.name = name\n",
    "        self.industry_type = industry_type\n",
    "        self.num_employees = num_employees\n",
    "        self.total_revenue = total_revenue\n",
    "    \n",
    "    def serve_customer(self, x):\n",
    "        self.total_revenue -= x\n",
    "    \n",
    "    def gain_employees(self, y):\n",
    "        self.num_employees += y\n",
    "\n",
    "temp = CompanyClass(\"Cemex\", \"Building\", 2000, 5000000)\n",
    "temp.name, temp.industry_type, temp.num_employees, temp.total_revenue"
   ]
  },
  {
   "cell_type": "code",
   "execution_count": 30,
   "metadata": {},
   "outputs": [
    {
     "data": {
      "text/plain": [
       "4998000"
      ]
     },
     "execution_count": 30,
     "metadata": {},
     "output_type": "execute_result"
    }
   ],
   "source": [
    "temp.serve_customer(2000)\n",
    "temp.total_revenue"
   ]
  },
  {
   "cell_type": "code",
   "execution_count": 32,
   "metadata": {},
   "outputs": [
    {
     "data": {
      "text/plain": [
       "2020"
      ]
     },
     "execution_count": 32,
     "metadata": {},
     "output_type": "execute_result"
    }
   ],
   "source": [
    "temp.gain_employees(20)\n",
    "temp.num_employees"
   ]
  },
  {
   "cell_type": "markdown",
   "metadata": {},
   "source": [
    "2. Let's build a `TV` class, used to represent a television. \n",
    "\n",
    "    1. In this class, we'll have the following attributes: \n",
    "\n",
    "        * `brand` - `str` holding the brand of the television ('Sony', 'LG', etc.)\n",
    "        * `on_status` - `bool` holding whether or not the television is on. This should default to False (e.g. off). \n",
    "        * `current_channel` - `int` holding the current channel number. If the television is off, then the `current_channel` should be 0. Given that `on_status` defaults to off, what does that mean the `current_channel` should default to?\n",
    "        * `life_perc` - `float` holding the percentage of life left in the TV. This should start out at 100% (i.e. default to 100). \n",
    "\n",
    "    2. Instances of the `TV` class will have the following methods: \n",
    "\n",
    "        * `hit_power` - this will turn the television on/off, depending on whether it's already on/off (if its on it'll switch it off, and vice versa). We'll add a couple of stipulations with this one: \n",
    "            * Each time the television is turned off, it loses a little bit of life - decrease the `life_perc` by 0.01 each time the television is turned off. \n",
    "            * Each time the television is turned off the channel should be set to 0. \n",
    "        * `change_channel` - this will take in an `int` to change the channel to a new one. We'll add a stipulation to this as well: \n",
    "        * If the television is not on, but the `change_channel` method is called, print 'Television is not on!'. Otherwise, change the channel to the inputted channel. "
   ]
  },
  {
   "cell_type": "code",
   "execution_count": 33,
   "metadata": {},
   "outputs": [
    {
     "data": {
      "text/plain": [
       "('Sony', 'Off', 1, 100)"
      ]
     },
     "execution_count": 33,
     "metadata": {},
     "output_type": "execute_result"
    }
   ],
   "source": [
    "class TvClass():\n",
    "    def __init__(self, brand, on_status, current_channel, life_perc = 100):\n",
    "        self.brand = brand\n",
    "        self.on_status = on_status\n",
    "        self.current_channel = current_channel\n",
    "        self.life_perc = life_perc\n",
    "    \n",
    "    def hit_power(self):\n",
    "        if self.on_status.lower() == \"on\":\n",
    "            self.on_status = \"Off\"\n",
    "        else:\n",
    "            self.on_status = \"On\"\n",
    "        \n",
    "    def change_channel(self, x):\n",
    "        if self.on_status.lower() != \"on\":\n",
    "            print(\"Television is not on!\")\n",
    "        else:\n",
    "            self.current_channel = x\n",
    "    \n",
    "temp = TvClass(\"Sony\", \"Off\", 1)\n",
    "temp.brand, temp.on_status, temp.current_channel, temp.life_perc"
   ]
  },
  {
   "cell_type": "code",
   "execution_count": 34,
   "metadata": {},
   "outputs": [
    {
     "data": {
      "text/plain": [
       "'On'"
      ]
     },
     "execution_count": 34,
     "metadata": {},
     "output_type": "execute_result"
    }
   ],
   "source": [
    "temp.hit_power()\n",
    "temp.on_status"
   ]
  },
  {
   "cell_type": "code",
   "execution_count": 35,
   "metadata": {},
   "outputs": [
    {
     "data": {
      "text/plain": [
       "2"
      ]
     },
     "execution_count": 35,
     "metadata": {},
     "output_type": "execute_result"
    }
   ],
   "source": [
    "temp.change_channel(2)\n",
    "temp.current_channel"
   ]
  },
  {
   "cell_type": "code",
   "execution_count": 38,
   "metadata": {},
   "outputs": [
    {
     "data": {
      "text/plain": [
       "'Off'"
      ]
     },
     "execution_count": 38,
     "metadata": {},
     "output_type": "execute_result"
    }
   ],
   "source": [
    "temp.hit_power()\n",
    "temp.on_status"
   ]
  },
  {
   "cell_type": "code",
   "execution_count": 39,
   "metadata": {},
   "outputs": [
    {
     "name": "stdout",
     "output_type": "stream",
     "text": [
      "Television is not on!\n"
     ]
    }
   ],
   "source": [
    "temp.change_channel(3)"
   ]
  },
  {
   "cell_type": "markdown",
   "metadata": {},
   "source": [
    "# Hard Class Assignments\n",
    "### Part 1 - Building out `OurClass`\n",
    "\n",
    "We're going to rework `OurClass` a little. As a reminder, here is what we settled on during lecture:\n",
    "\n",
    "```python\n",
    "class OurClass():\n",
    "\n",
    "    def __init__(self, name, location, size=0):\n",
    "        self.name = name\n",
    "        self.location = location\n",
    "        self.size = size\n",
    "        self.questions_asked = []\n",
    "        if self.size >= 20:\n",
    "            self.at_capacity = True\n",
    "        else:\n",
    "            self.at_capacity = False\n",
    "\n",
    "   def add_question_asked(self, question):\n",
    "        self.questions_asked.append(question)\n",
    "\n",
    "   def add_class_members(self, num):\n",
    "        self.size += num\n",
    "\n",
    "        if self.size >= 20:\n",
    "            print('Capacity Reached!!')\n",
    "            self.at_capacity = True\n",
    "\n",
    "   def check_if_at_capacity(self):\n",
    "        return self.at_capacity\n",
    "```\n",
    "\n",
    "1. The first thing you are going to do is to remove the `add_question_asked` method from `OurClass`. You can also remove the `questions_asked` attribute that is stored on the class, too. In terms of the `add_question_asked` method though, we are going to end up moving it into the `Member` class we will build, so it might be a good idea to keep that code in your back pocket."
   ]
  },
  {
   "cell_type": "code",
   "execution_count": 40,
   "metadata": {},
   "outputs": [],
   "source": [
    "class OurClass():\n",
    "\n",
    "    def __init__(self, name, location, size=0):\n",
    "        self.name = name\n",
    "        self.location = location\n",
    "        self.size = size\n",
    "        \n",
    "        if self.size >= 20:\n",
    "            self.at_capacity = True\n",
    "        else:\n",
    "            self.at_capacity = False\n",
    "\n",
    "    def add_class_members(self, num):\n",
    "        self.size += num\n",
    "\n",
    "        if self.size >= 20:\n",
    "            print('Capacity Reached!!')\n",
    "            self.at_capacity = True\n",
    "\n",
    "    def check_if_at_capacity(self):\n",
    "        return self.at_capacity"
   ]
  },
  {
   "cell_type": "markdown",
   "metadata": {},
   "source": [
    "2. Next, you should add an attribute to the class called `members`. Modify the `__init__` function so that it takes an additional parameter, called `members`, which will be stored as the `members` attribute on the class. Make the default value in the `__init__` method definition for this `None`. Then, in the `__init__` method itself, if a value for the `members` parameter is passed in, use that to assign to the `members` attribute. Otherwise, initialize the `members` attribute to an empty list (**Note**: We didn't use an empty list as the default value for the `members` attribute because it is bad practice to use mutable data types for default values)."
   ]
  },
  {
   "cell_type": "code",
   "execution_count": 43,
   "metadata": {},
   "outputs": [],
   "source": [
    "class OurClass():\n",
    "\n",
    "    def __init__(self, name, location, size=0, members = None):\n",
    "        self.name = name\n",
    "        self.location = location\n",
    "        self.size = size\n",
    "        self.members = members\n",
    "        \n",
    "        if self.size >= 20:\n",
    "            self.at_capacity = True\n",
    "        else:\n",
    "            self.at_capacity = False\n",
    "\n",
    "    def add_class_members(self, num):\n",
    "        self.size += num\n",
    "\n",
    "        if self.size >= 20:\n",
    "            print('Capacity Reached!!')\n",
    "            self.at_capacity = True\n",
    "\n",
    "    def check_if_at_capacity(self):\n",
    "        return self.at_capacity"
   ]
  },
  {
   "cell_type": "markdown",
   "metadata": {},
   "source": [
    "3. Now, alter the `add_class_members` method in `OurClass` to not take in a number (e.g. the `num` parameter), but instead a new member. Change the function definition to take in that member parameter, and then add that member to the `members` list attribute of the class. You should keep the rest of the code the same (i.e. adding 1 to the `size` attribute of the class and checking the `at_capacity` attribute of the class)."
   ]
  },
  {
   "cell_type": "code",
   "execution_count": 47,
   "metadata": {},
   "outputs": [
    {
     "data": {
      "text/plain": [
       "('Cemex', 'Monterrey', 0, [])"
      ]
     },
     "execution_count": 47,
     "metadata": {},
     "output_type": "execute_result"
    }
   ],
   "source": [
    "class OurClass():\n",
    "\n",
    "    def __init__(self, name, location, size=0, members = None):\n",
    "        self.name = name\n",
    "        self.location = location\n",
    "        self.size = size\n",
    "        self.members = [] if not members else members \n",
    "        \n",
    "        if self.size >= 20:\n",
    "            self.at_capacity = True\n",
    "        else:\n",
    "            self.at_capacity = False\n",
    "\n",
    "    def add_class_members(self, x):\n",
    "        self.members.append(x)\n",
    "        self.size += 1\n",
    "\n",
    "        if self.size >= 20:\n",
    "            print('Capacity Reached!!')\n",
    "            self.at_capacity = True\n",
    "\n",
    "    def check_if_at_capacity(self):\n",
    "        return self.at_capacity\n",
    "\n",
    "temp = OurClass(\"Cemex\", \"Monterrey\")\n",
    "temp.name, temp.location, temp.size, temp.members"
   ]
  },
  {
   "cell_type": "code",
   "execution_count": 45,
   "metadata": {},
   "outputs": [
    {
     "data": {
      "text/plain": [
       "(1, ['Elisa'])"
      ]
     },
     "execution_count": 45,
     "metadata": {},
     "output_type": "execute_result"
    }
   ],
   "source": [
    "temp.add_class_members(\"Elisa\")\n",
    "temp.size, temp.members"
   ]
  },
  {
   "cell_type": "code",
   "execution_count": 46,
   "metadata": {},
   "outputs": [
    {
     "data": {
      "text/plain": [
       "(2, ['Elisa', 'John'])"
      ]
     },
     "execution_count": 46,
     "metadata": {},
     "output_type": "execute_result"
    }
   ],
   "source": [
    "temp.add_class_members(\"John\")\n",
    "temp.size, temp.members"
   ]
  },
  {
   "cell_type": "markdown",
   "metadata": {},
   "source": [
    "4. Finally, let's refactor our code a little bit. We're checking the capacity twice above, once in the `__init__` method and then once in the `add_class_members` method. Let's instead just build this into the `check_if_at_capacity` method. Change that method so that we simply check if we are over a certain size (lets say 31) and return a `True` or `False`. After modifying this method, change the code in the `__init__` and `add_class_members` methods to take advantage of it."
   ]
  },
  {
   "cell_type": "code",
   "execution_count": 80,
   "metadata": {},
   "outputs": [
    {
     "data": {
      "text/plain": [
       "('Cemex', 'Monterrey', 0, [])"
      ]
     },
     "execution_count": 80,
     "metadata": {},
     "output_type": "execute_result"
    }
   ],
   "source": [
    "class OurClass():\n",
    "\n",
    "    def __init__(self, name, location, size=0, members = None):\n",
    "        self.name = name\n",
    "        self.location = location\n",
    "        self.size = size\n",
    "        self.members = [] if not members else members \n",
    "        self.check_if_at_capacity()\n",
    "            \n",
    "        #if self.size >= 20:\n",
    "         #   self.at_capacity = True\n",
    "        #else:\n",
    "         #   self.at_capacity = False    \n",
    "            \n",
    "            \n",
    "    def add_class_members(self, x):\n",
    "        self.members.append(x)\n",
    "        self.size += 1\n",
    "        self.check_if_at_capacity()\n",
    "\n",
    "        #if self.size >= 20:\n",
    "         #   print('Capacity Reached!!')\n",
    "          #  self.at_capacity = True\n",
    "\n",
    "    def check_if_at_capacity(self):\n",
    "        if self.size >= 31:\n",
    "            print('Capacity Reached!!')\n",
    "            self.at_capacity = True\n",
    "\n",
    "temp = OurClass(\"Cemex\", \"Monterrey\")\n",
    "temp.name, temp.location, temp.size, temp.members"
   ]
  },
  {
   "cell_type": "code",
   "execution_count": 79,
   "metadata": {},
   "outputs": [
    {
     "data": {
      "text/plain": [
       "['Elisa', 'Elisa', 'Elisa']"
      ]
     },
     "execution_count": 79,
     "metadata": {},
     "output_type": "execute_result"
    }
   ],
   "source": [
    "temp.add_class_members(\"Elisa\")\n",
    "temp.members"
   ]
  },
  {
   "cell_type": "markdown",
   "metadata": {},
   "source": [
    "# Classes Cont\n",
    "## Assignment Questions\n",
    "### Part 1 - Functions to Class\n",
    "Imagine you are waiting tables. At the end of each night, you have to find all you're bills, and total the amount that you will be tipped; this will depend on what a client decided, or 18% if they didn't specify. You always end up spending an extra 10 minutes at the end of your shift calculating how much you made in tips, and as a result you decide to write a Python script to help automate the task.\n",
    "\n",
    "After a little trial and error, you come up with the functions below. The `0.18` is for the standard tip your restaurant charges if none is specified.\n",
    "\n",
    "```python\n",
    "def get_tips(bills_n_tips):\n",
    "    return [bill * tip for bill, tip in bills_n_tips]\n",
    "\n",
    "def add_bill_update_tips(new_bill, bills_n_tips, tip_rate=0.18):\n",
    "    bills_n_tips.append((new_bill, tip_rate))\n",
    "    tip_out = sum(get_tips(bills_n_tips))\n",
    "    return tip_out\n",
    "```\n",
    "\n",
    "You then test them out with the following function. Who doesn't like well tested code??\n",
    "\n",
    "```python\n",
    "def test_tip_out():\n",
    "    waiter_bills_n_tips = []\n",
    "    print(add_bill_update_tips(58.90, waiter_bills_n_tips, 0.15))\n",
    "    print(add_bill_update_tips(31.58, waiter_bills_n_tips))\n",
    "    print(add_bill_update_tips(81.44, waiter_bills_n_tips, 0.20))\n",
    "    print(get_tips(waiter_bills_n_tips))\n",
    "    print(len(waiter_bills_n_tips))\n",
    "```\n",
    "\n",
    "As everything appears to be working, you happily go to work and keep track of your tips. Everything works out, as expected. After all, you did your due diligence and tested your code. However, running the same function over and over (and having to make sure that you we're passing the correct things to your function while you were trying to work) quickly becomes a burden. In addition, some of your coworkers see what you were doing and want to try your code next time you work. You wonder to yourself if there is a simpler way to implement a solution to this problem, one where anyone could easily and intuitively use the program your wrote.\n",
    "\n",
    "Luckily, you learned about classes in Python recently and realize that this is a great situation to employ them! The first thing you do is sit down and think about how you'd want to use a class in this scenario. You want a class that allows you to track and get information about the status of your tips. Here's an example usage of the class you're going to build:\n",
    "\n",
    "```python\n",
    "tot = TipOutTracker(0.18)\n",
    "tot.add_bill(58.90, 0.15)\n",
    "tot.add_bill(31.58)\n",
    "print(tot.total_tip_out())\n",
    "tot.add_bill(81.44, 0.20)\n",
    "print(len(tot))\n",
    "```\n",
    "\n",
    "Here, when you get the length of your tracker, you are actually going to get the total number of bills you've served.\n",
    "\n",
    "With this in mind, your task is to take the code from the function solution of this problem and write a class `TipOutTracker`. This class will operate in the way shown above. You should be thinking about the following as you start solving this problem:\n",
    "\n",
    "* What are the attributes (data) that you are going to store on the class?\n",
    "    * What data is being abstracted away from the user of your class?\n",
    "* What are the methods (functions) that you are going to operate on the attributes with?\n",
    "    * What are the ways that a user of your class will be able to interact with the data it stores?"
   ]
  },
  {
   "cell_type": "code",
   "execution_count": 140,
   "metadata": {},
   "outputs": [
    {
     "data": {
      "text/plain": [
       "'Elisa'"
      ]
     },
     "execution_count": 140,
     "metadata": {},
     "output_type": "execute_result"
    }
   ],
   "source": [
    "class TipOutTracker():\n",
    "    def __init__(self, waiter, tables_served = None):\n",
    "        self.waiter = waiter\n",
    "        self.tables_served = {} if not tables_served else tables_served\n",
    "        self.total_tip = float()\n",
    "\n",
    "    def add_bill(self, bill_id, bill_total, tip_perc = 0.18):\n",
    "        self.bill_id = bill_id\n",
    "        self.bill_total = bill_total\n",
    "        self.tip_perc = tip_perc\n",
    "        \n",
    "        self.total_tip_trans = self.bill_total * self.tip_perc     \n",
    "        self.tables_served.update({self.bill_id: [self.bill_total, self.tip_perc, self.total_tip_trans]})\n",
    "        \n",
    "        self.total_tip += self.total_tip_trans\n",
    "    \n",
    "    def __len__(self, waiter):\n",
    "        #if \n",
    "        return len(self.tables_served[\"key\"])    \n",
    "\n",
    "examples = TipOutTracker(\"Elisa\")\n",
    "examples.waiter"
   ]
  },
  {
   "cell_type": "code",
   "execution_count": 141,
   "metadata": {},
   "outputs": [
    {
     "data": {
      "text/plain": [
       "{'ABC': [100, 0.18, 18.0]}"
      ]
     },
     "execution_count": 141,
     "metadata": {},
     "output_type": "execute_result"
    }
   ],
   "source": [
    "examples.add_bill(\"ABC\", 100)\n",
    "examples.tables_served"
   ]
  },
  {
   "cell_type": "code",
   "execution_count": 142,
   "metadata": {},
   "outputs": [
    {
     "data": {
      "text/plain": [
       "{'ABC': [100, 0.18, 18.0], 'ABD': [200, 0.18, 36.0]}"
      ]
     },
     "execution_count": 142,
     "metadata": {},
     "output_type": "execute_result"
    }
   ],
   "source": [
    "examples.add_bill(\"ABD\", 200)\n",
    "examples.tables_served"
   ]
  },
  {
   "cell_type": "code",
   "execution_count": 143,
   "metadata": {},
   "outputs": [
    {
     "data": {
      "text/plain": [
       "('Elisa', {'ABC': [100, 0.18, 18.0], 'ABD': [200, 0.18, 36.0]})"
      ]
     },
     "execution_count": 143,
     "metadata": {},
     "output_type": "execute_result"
    }
   ],
   "source": [
    "examples.waiter, examples.tables_served"
   ]
  },
  {
   "cell_type": "code",
   "execution_count": 144,
   "metadata": {},
   "outputs": [
    {
     "data": {
      "text/plain": [
       "54.0"
      ]
     },
     "execution_count": 144,
     "metadata": {},
     "output_type": "execute_result"
    }
   ],
   "source": [
    "examples.total_tip"
   ]
  },
  {
   "cell_type": "markdown",
   "metadata": {},
   "source": [
    "### Part 2 - Classes from Scratch\n",
    "\n",
    "Now that you have a little bit of practice working through a problem that takes moves functions into a class, you're going to get some practice solving a problem from scratch, using OOP.\n",
    "\n",
    "This time you are going to create a class that allows you to keep track of a to-do list. The kinds of things that we'd want to be able to do with a to-do list (no pun intended) are:\n",
    "\n",
    "* Add a to-do item.\n",
    "* Mark a to-do item as completed and remove it.\n",
    "* Have the length of the to-do list return the number of items you have to do.\n",
    "\n",
    "As you work through this problem, a good place to start is by thinking about how you'd want to use this class. If you were to be given a `ToDoList` class, how would you want to use it? Go ahead and write up a test case where you \"use\" the class that you're about to write. This will help get you into the mindset of how the class will actually work.\n",
    "\n",
    "With that in mind, you're going to want to answer the same questions that were posed before:\n",
    "\n",
    "* What are the attributes (data) that you are going to store on the class?\n",
    "* What are the methods (functions) that you are going to operate on the attributes with?\n",
    "\n",
    "Once you have an idea about the answers to these two questions, you'll be in a great place to start writing some code!"
   ]
  },
  {
   "cell_type": "code",
   "execution_count": 155,
   "metadata": {},
   "outputs": [],
   "source": [
    "class ToDoList():\n",
    "    import datetime\n",
    "    def __init__(self, name):\n",
    "        self.name = name\n",
    "        self.to_do_dict = {}\n",
    "    \n",
    "    def add_element(self, to_do, mark = \"Pending\"):\n",
    "        self.to_do = to_do\n",
    "        self.mark = mark\n",
    "        self.to_do_dict.update({self.to_do: [self.mark]})\n",
    "        \n",
    "    def change_mark_done(self, key_element):\n",
    "        self.to_do_dict[key_element] = \"Ready!\"\n",
    "\n",
    "example = ToDoList(\"Elisa\")\n",
    "example.add_element(\"Go to NYC\")\n",
    "example.add_element(\"Try skydiving\")\n",
    "example.add_element(\"Eat in a 3 michelin star restaurant\")"
   ]
  },
  {
   "cell_type": "code",
   "execution_count": 156,
   "metadata": {},
   "outputs": [
    {
     "data": {
      "text/plain": [
       "('Elisa',\n",
       " {'Go to NYC': ['Pending'],\n",
       "  'Try skydiving': ['Pending'],\n",
       "  'Eat in a 3 michelin star restaurant': ['Pending']})"
      ]
     },
     "execution_count": 156,
     "metadata": {},
     "output_type": "execute_result"
    }
   ],
   "source": [
    "example.name, example.to_do_dict"
   ]
  },
  {
   "cell_type": "code",
   "execution_count": 157,
   "metadata": {},
   "outputs": [
    {
     "data": {
      "text/plain": [
       "('Elisa',\n",
       " {'Go to NYC': 'Ready!',\n",
       "  'Try skydiving': ['Pending'],\n",
       "  'Eat in a 3 michelin star restaurant': ['Pending']})"
      ]
     },
     "execution_count": 157,
     "metadata": {},
     "output_type": "execute_result"
    }
   ],
   "source": [
    "example.change_mark_done(\"Go to NYC\")\n",
    "example.name, example.to_do_dict"
   ]
  },
  {
   "cell_type": "markdown",
   "metadata": {},
   "source": [
    "### Part 3 - Times Not to Use Classes\n",
    "\n",
    "One thing that should be addressed while you are learning about OOP is that the use of a class is not appropriate for solving every problem. To illustrate this point, consider the following code, and it's test in the main block.\n",
    "\n",
    "```python\n",
    "class BookWordCounter():\n",
    "    def __init__(self, book_path):\n",
    "        self.book_path = book_path\n",
    "        self.has_counted = False\n",
    "        self.num_words = 0\n",
    "\n",
    "    def count_words(self):\n",
    "        with open(self.book_path) as book:\n",
    "            for line in book:\n",
    "                self.num_words += len(line.split())\n",
    "\n",
    "    def num_words_in_book(self):\n",
    "        if not self.has_counted:\n",
    "            self.count_words()\n",
    "        return self.num_words\n",
    "\n",
    "if __name__ == '__main__':\n",
    "    flat_land_counter = BookWordCounter('misc/books/flatland.txt')\n",
    "    print(flat_land_counter.num_words_in_book())\n",
    "    programming_lang_counter = BookWordCounter('misc/books/programming_languages.txt')\n",
    "    print(programming_lang_counter.num_words_in_book())\n",
    "```\n",
    "\n",
    "Now ask yourself:\n",
    "* Is encapsulation being taken advantage of when using this class?\n",
    "* Is there data that is being stored on the class as an attribute?\n",
    "    * Is it changing?\n",
    "* Does calling methods on the class allow me to interact with that data?\n",
    "* Could this be done with a function???\n",
    "\n",
    "Try writing a function to solve the same problem that the `BookWordCounter` class solves. Consider how you would want to use that function. Feel free to tear apart the code in `BookWordCounter` when you're making your function(s).\n",
    "\n",
    "Once your done, consider the pros and cons of solving this problem with a class vs functions. This is an important consideration to make now that you know about the power of both paradigms."
   ]
  },
  {
   "cell_type": "code",
   "execution_count": null,
   "metadata": {},
   "outputs": [],
   "source": []
  }
 ],
 "metadata": {
  "kernelspec": {
   "display_name": "Python 3",
   "language": "python",
   "name": "python3"
  },
  "language_info": {
   "codemirror_mode": {
    "name": "ipython",
    "version": 3
   },
   "file_extension": ".py",
   "mimetype": "text/x-python",
   "name": "python",
   "nbconvert_exporter": "python",
   "pygments_lexer": "ipython3",
   "version": "3.7.3"
  }
 },
 "nbformat": 4,
 "nbformat_minor": 2
}
