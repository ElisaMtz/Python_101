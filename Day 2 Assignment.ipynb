{
 "cells": [
  {
   "cell_type": "markdown",
   "metadata": {},
   "source": [
    "# Day 2 Assignment"
   ]
  },
  {
   "cell_type": "markdown",
   "metadata": {},
   "source": [
    " 1. Look at the code in `warmup1.py`. What is the letter at index 14 of `my_str`? Think about this first, then feel free to print just that letter to check your answer."
   ]
  },
  {
   "cell_type": "code",
   "execution_count": 1,
   "metadata": {},
   "outputs": [
    {
     "name": "stdout",
     "output_type": "stream",
     "text": [
      "THIS STRING WAS NOT CHOSEN ARBITRARILY...\n"
     ]
    }
   ],
   "source": [
    "my_str = 'This String was not Chosen Arbitrarily...'\n",
    "print(my_str.upper())"
   ]
  },
  {
   "cell_type": "code",
   "execution_count": 2,
   "metadata": {},
   "outputs": [
    {
     "data": {
      "text/plain": [
       "'s'"
      ]
     },
     "execution_count": 2,
     "metadata": {},
     "output_type": "execute_result"
    }
   ],
   "source": [
    "my_str[14]"
   ]
  },
  {
   "cell_type": "markdown",
   "metadata": {},
   "source": [
    " 2. In line 1 of `warmup1.py`, change the definition of `my_str` to use the contraction \"wasn't\" instead of \"was not\". What letter is at index 14 now?"
   ]
  },
  {
   "cell_type": "code",
   "execution_count": 5,
   "metadata": {},
   "outputs": [
    {
     "data": {
      "text/plain": [
       "'s'"
      ]
     },
     "execution_count": 5,
     "metadata": {},
     "output_type": "execute_result"
    }
   ],
   "source": [
    "my_str = \"This String wasn't Chosen Arbitrarily...\"\n",
    "my_str[14]"
   ]
  },
  {
   "cell_type": "markdown",
   "metadata": {},
   "source": [
    "  3. Change `warmup1.py` to print `my_str` with only lowercase letters."
   ]
  },
  {
   "cell_type": "code",
   "execution_count": 7,
   "metadata": {},
   "outputs": [
    {
     "data": {
      "text/plain": [
       "\"this string wasn't chosen arbitrarily...\""
      ]
     },
     "execution_count": 7,
     "metadata": {},
     "output_type": "execute_result"
    }
   ],
   "source": [
    "my_str.lower()"
   ]
  },
  {
   "cell_type": "markdown",
   "metadata": {},
   "source": [
    "4. Add a line between lines 1 and 2 that adds the string `\"oR wAs it??\"` to the end of `my_str`. When you print `my_str` with no uppercase letters now, it should display: `this string wasn't chosen arbitrarily...or was it??`. (**Hint**: use string concatenation with `+=` to redefine `my_str`)"
   ]
  },
  {
   "cell_type": "code",
   "execution_count": 9,
   "metadata": {},
   "outputs": [
    {
     "name": "stdout",
     "output_type": "stream",
     "text": [
      "this string was not chosen arbitrarily...or was it??\n"
     ]
    }
   ],
   "source": [
    "my_str = 'This String was not Chosen Arbitrarily...'\n",
    "my_str2 = \"oR wAs it??\"\n",
    "my_str3 = my_str + my_str2\n",
    "print(my_str3.lower())"
   ]
  },
  {
   "cell_type": "markdown",
   "metadata": {},
   "source": [
    " 5. Using indexing, print only the `\"oR wAs it\"` in `my_str`. You're going to have to use `[start_index:end_index]` notation to do this."
   ]
  },
  {
   "cell_type": "code",
   "execution_count": 10,
   "metadata": {},
   "outputs": [
    {
     "data": {
      "text/plain": [
       "'oR wAs it'"
      ]
     },
     "execution_count": 10,
     "metadata": {},
     "output_type": "execute_result"
    }
   ],
   "source": [
    "my_str3[41:50]"
   ]
  },
  {
   "cell_type": "markdown",
   "metadata": {},
   "source": [
    " 6. Find a different way to index into `my_str` to print only the `\"oR wAs it\"`. This time, though, print all the letters in uppercase."
   ]
  },
  {
   "cell_type": "code",
   "execution_count": 20,
   "metadata": {},
   "outputs": [
    {
     "data": {
      "text/plain": [
       "'OR WAS IT'"
      ]
     },
     "execution_count": 20,
     "metadata": {},
     "output_type": "execute_result"
    }
   ],
   "source": [
    "my_str3[-11:-2].upper()"
   ]
  },
  {
   "cell_type": "markdown",
   "metadata": {},
   "source": [
    " 7. Add the line `user_input = input('Add \"oR wAs it??\" (y/n)? ')` at the top of `warmup1.py`. This will prompt the user to enter a `y` or an `n`. Now add an `if` statement to your code that only adds the string `\"oR wAs it??\"` to `my_str` if the user inputs a `y`. If the user inputs an `n`, don't add `\"oR wAs it??\"` to `my_str`. Print `my_str` at the end of the script."
   ]
  },
  {
   "cell_type": "code",
   "execution_count": 1,
   "metadata": {},
   "outputs": [
    {
     "name": "stdin",
     "output_type": "stream",
     "text": [
      "Add \"oR wAs it??\" (y/n)?  y\n"
     ]
    },
    {
     "name": "stdout",
     "output_type": "stream",
     "text": [
      "This String was not Chosen Arbitrarily...oR wAs it??\n"
     ]
    }
   ],
   "source": [
    "user_input = input('Add \"oR wAs it??\" (y/n)? ')\n",
    "my_str = 'This String was not Chosen Arbitrarily...'\n",
    "my_str2 = \"oR wAs it??\"\n",
    "if user_input == \"y\" or user_input == \"Y\":\n",
    "    print(my_str + my_str2)\n",
    "else:print(my_str)"
   ]
  },
  {
   "cell_type": "markdown",
   "metadata": {},
   "source": [
    "    8. Change the first line of `warmup1.py` to \"user_input = input('String to add to end of my_str: ')\". \n",
    "    Add `user_input` to the end of `my_str` instead of `\"oR wAs it??\"` and print `my_str`. Note, you'll have to remove the `if` you have in your code from the previous question."
   ]
  },
  {
   "cell_type": "code",
   "execution_count": null,
   "metadata": {},
   "outputs": [],
   "source": []
  }
 ],
 "metadata": {
  "kernelspec": {
   "display_name": "Python 3",
   "language": "python",
   "name": "python3"
  },
  "language_info": {
   "codemirror_mode": {
    "name": "ipython",
    "version": 3
   },
   "file_extension": ".py",
   "mimetype": "text/x-python",
   "name": "python",
   "nbconvert_exporter": "python",
   "pygments_lexer": "ipython3",
   "version": "3.7.3"
  }
 },
 "nbformat": 4,
 "nbformat_minor": 2
}
